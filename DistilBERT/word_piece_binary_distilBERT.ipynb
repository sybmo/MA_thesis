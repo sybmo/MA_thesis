{
  "nbformat": 4,
  "nbformat_minor": 0,
  "metadata": {
    "colab": {
      "provenance": []
    },
    "kernelspec": {
      "name": "python3",
      "display_name": "Python 3"
    },
    "language_info": {
      "name": "python"
    }
  },
  "cells": [
    {
      "cell_type": "code",
      "source": [
        "from csv import reader\n",
        "import pandas as pd\n",
        "import ast"
      ],
      "metadata": {
        "id": "DmEMPbHD9uCn"
      },
      "execution_count": null,
      "outputs": []
    },
    {
      "cell_type": "code",
      "execution_count": null,
      "metadata": {
        "id": "-NJ4ECFH8t9k",
        "colab": {
          "base_uri": "https://localhost:8080/"
        },
        "outputId": "e899e32b-e076-4371-b41a-4733e7c9c230"
      },
      "outputs": [
        {
          "output_type": "stream",
          "name": "stdout",
          "text": [
            "--2023-03-05 04:30:39--  http://sybmo.com/thesis/distil-binary.csv\n",
            "Resolving sybmo.com (sybmo.com)... 81.169.145.82, 2a01:238:20a:202:1082::\n",
            "Connecting to sybmo.com (sybmo.com)|81.169.145.82|:80... connected.\n",
            "HTTP request sent, awaiting response... 200 OK\n",
            "Length: 399995 (391K) [text/csv]\n",
            "Saving to: ‘distil-binary.csv’\n",
            "\n",
            "distil-binary.csv   100%[===================>] 390.62K   426KB/s    in 0.9s    \n",
            "\n",
            "2023-03-05 04:30:40 (426 KB/s) - ‘distil-binary.csv’ saved [399995/399995]\n",
            "\n"
          ]
        }
      ],
      "source": [
        "test = pd.read_csv('http://sybmo.com/thesis/test.csv')\n",
        "test.tokens = test.tokens.apply(ast.literal_eval)\n",
        "test.labels = test.labels.apply(ast.literal_eval)\n",
        "test.labels = test.labels.astype(str).str.replace(\"2\", \"1\").apply(ast.literal_eval)\n",
        "\n",
        "\n",
        "final_list_tokens = []\n",
        "final_list_labels = []\n",
        "!wget 'http://sybmo.com/thesis/distil-binary.csv'\n",
        "\n",
        "with open(\"distil-binary.csv\", \"r\") as read_obj:\n",
        "    csv_reader = reader(read_obj)\n",
        "    # iterate over each row in the csv using reader object\n",
        "    breaki = 0\n",
        "    for row in csv_reader:\n",
        "        # declare emtpy lists for every row\n",
        "        words = []\n",
        "        labels = []\n",
        "        # row variable is a list that represents a row in csv\n",
        "        for element in row:\n",
        "            # turn string representation of tuple into real tuple\n",
        "            element = ast.literal_eval(str(element))\n",
        "            # append every first element of tuple to words list\n",
        "            words.append(element[0])\n",
        "\n",
        "            # check if words start with bracket or double hashtag in order to only keep the right labels\n",
        "            if not (element[0].startswith(\"[C\") or element[0].startswith(\"##\") or element[0].startswith(\"[S\") ):\n",
        "                labels.append(element[1])\n",
        "\n",
        "        #remove \"tokens\" that start with bracket ([CLS] and [SEP] (but keep [UNK]))\n",
        "        text = ' '.join([x for x in words if not (x.startswith('[C') or x.startswith('[S'))])\n",
        "        clean_text = text.replace(' ##', '')\n",
        "\n",
        "\n",
        "        split_fine_text = clean_text.split()\n",
        "\n",
        "        # this piece of code finds emojis and removes them from the list\n",
        "        # and removes the labels at given index\n",
        "        for index, token in enumerate(split_fine_text):\n",
        "            encoded_token = token.encode('utf8')\n",
        "            if 'xf' in str(encoded_token):\n",
        "                split_fine_text.pop(index)\n",
        "                labels.pop(index)\n",
        "\n",
        "        final_list_tokens.append(split_fine_text)\n",
        "        final_list_labels.append([int(x[-1]) for x in labels])\n",
        "\n",
        "# flatten the lists\n",
        "preds = [item for sublist in final_list_labels for item in sublist]\n",
        "gold = [item for sublist in test.labels.to_list() for item in sublist]\n",
        "tokens_gold = [item for sublist in test.tokens.to_list() for item in sublist]\n",
        "reconstructed_flat = [item for sublist in final_list_tokens for item in sublist]"
      ]
    },
    {
      "cell_type": "code",
      "source": [
        "for index,token in enumerate(tokens_gold):\n",
        "    if token == \"\\u200d\":\n",
        "        gold.pop(index)\n",
        "        tokens_gold.pop(index)\n",
        "\n",
        "print(len(tokens_gold),len(reconstructed_flat),len(gold),len(preds))"
      ],
      "metadata": {
        "id": "foXPvO3xTh70",
        "colab": {
          "base_uri": "https://localhost:8080/"
        },
        "outputId": "9b55bd05-1d24-4c58-f900-75992fa6efe4"
      },
      "execution_count": null,
      "outputs": [
        {
          "output_type": "stream",
          "name": "stdout",
          "text": [
            "14205 14205 14205 14205\n"
          ]
        }
      ]
    },
    {
      "cell_type": "code",
      "source": [
        "error_tokens = []\n",
        "for index, token in enumerate(tokens_gold):\n",
        "    if preds[index] != gold[index]:\n",
        "        error_tokens.append(token)"
      ],
      "metadata": {
        "id": "Wkj3httyUtEr"
      },
      "execution_count": null,
      "outputs": []
    },
    {
      "cell_type": "code",
      "source": [
        "error_tokens"
      ],
      "metadata": {
        "id": "cJiBGB-8U41y",
        "colab": {
          "base_uri": "https://localhost:8080/"
        },
        "outputId": "cf963472-408e-4e54-f3e7-b314f53ea245"
      },
      "execution_count": null,
      "outputs": [
        {
          "output_type": "execute_result",
          "data": {
            "text/plain": [
              "['ass',\n",
              " 'loser',\n",
              " 'bullshit',\n",
              " 'ghetto',\n",
              " 'mafia',\n",
              " 'pond',\n",
              " 'people',\n",
              " 'illegal',\n",
              " 'women',\n",
              " 'fucking',\n",
              " 'white',\n",
              " 'people',\n",
              " 'dumb',\n",
              " 'ass',\n",
              " 'rats',\n",
              " 'wetback',\n",
              " 'twerkin',\n",
              " 'blunts',\n",
              " 'lambo',\n",
              " 'trash',\n",
              " 'women',\n",
              " 'hillary',\n",
              " 'clinton',\n",
              " 'woman',\n",
              " 'fucking',\n",
              " 'refugees',\n",
              " 'men',\n",
              " 'american',\n",
              " 'insult',\n",
              " 'cancer',\n",
              " 'women',\n",
              " 'vile',\n",
              " 'ass',\n",
              " 'dumber',\n",
              " 'retarded',\n",
              " 'tree',\n",
              " 'snail',\n",
              " 'she',\n",
              " 'begginner',\n",
              " 'he',\n",
              " 'you',\n",
              " 'your',\n",
              " 'they',\n",
              " 'you',\n",
              " 'fucking',\n",
              " 'stan',\n",
              " 'pretty',\n",
              " 'retarded',\n",
              " '<number>',\n",
              " 'gangs',\n",
              " 'men',\n",
              " 'women',\n",
              " 'they',\n",
              " 'they',\n",
              " 'retarded',\n",
              " 'he',\n",
              " 'halsey',\n",
              " 'women',\n",
              " 'you',\n",
              " 'you',\n",
              " 'u',\n",
              " 'you',\n",
              " 'gay',\n",
              " 'catch',\n",
              " 'bloody',\n",
              " 'this',\n",
              " 'anti',\n",
              " 'antifs',\n",
              " 'you',\n",
              " 'mannequin',\n",
              " 'they',\n",
              " 'they',\n",
              " 'carpet',\n",
              " 'kissers',\n",
              " 'they',\n",
              " 'racist',\n",
              " 'american',\n",
              " 'extreme',\n",
              " 'sexy',\n",
              " 'friends',\n",
              " 'kennedy',\n",
              " 'jack',\n",
              " 'mark',\n",
              " 'tom',\n",
              " 'dick',\n",
              " 'sumbitch',\n",
              " 'this',\n",
              " 'this',\n",
              " 'youre',\n",
              " 'community',\n",
              " 'mgtow',\n",
              " 'these',\n",
              " 'brzen',\n",
              " 'they',\n",
              " 'miss',\n",
              " 'lindsey',\n",
              " 'miss',\n",
              " 'lindsey',\n",
              " 'bitches',\n",
              " 'you',\n",
              " 'these',\n",
              " 'christensen',\n",
              " 'lil',\n",
              " 'rape',\n",
              " 'hoes',\n",
              " 'hitler',\n",
              " 'gay',\n",
              " 'alt',\n",
              " 'crybaby',\n",
              " 'you',\n",
              " 'yo',\n",
              " 'him',\n",
              " 'greedy',\n",
              " 'kike',\n",
              " 'shekel',\n",
              " 'fake',\n",
              " 'ass',\n",
              " 'obamas',\n",
              " 'queer',\n",
              " 'greeks',\n",
              " 'whitey',\n",
              " 'sad',\n",
              " 'ass',\n",
              " 'ns',\n",
              " 'gay',\n",
              " 'women',\n",
              " 'they',\n",
              " 'whites',\n",
              " 'kiked',\n",
              " 'out',\n",
              " 'christian',\n",
              " 'pieter',\n",
              " 'pooeters',\n",
              " 'anyone',\n",
              " 'gay',\n",
              " 'insane',\n",
              " 'she',\n",
              " 'dissident',\n",
              " 'larp',\n",
              " 'hazard',\n",
              " 'their',\n",
              " 'globalists',\n",
              " 'you',\n",
              " 'teamjew',\n",
              " 'they',\n",
              " 'white',\n",
              " 'anti',\n",
              " 'jew',\n",
              " 'niggas',\n",
              " 'bitches',\n",
              " 'euro',\n",
              " 'fags',\n",
              " 'you',\n",
              " 'boer',\n",
              " 'farmers',\n",
              " 'white',\n",
              " 'niggerdick',\n",
              " 'them',\n",
              " 'these',\n",
              " 'insane',\n",
              " 'coke',\n",
              " 'john',\n",
              " 'maynard',\n",
              " 'you',\n",
              " 'your',\n",
              " 'gay',\n",
              " 'nazis',\n",
              " 'whitesupreamist',\n",
              " 'housewife',\n",
              " 'ashtabula',\n",
              " 'fuckin',\n",
              " 'hoes',\n",
              " 'trash',\n",
              " 'stupid',\n",
              " 'nasty',\n",
              " 'she',\n",
              " 'one',\n",
              " 'one',\n",
              " 'bug',\n",
              " 'gay',\n",
              " 'gay',\n",
              " 'other',\n",
              " 'children',\n",
              " 'cuck',\n",
              " 'gayness',\n",
              " 'libertarian',\n",
              " 'these',\n",
              " 'bingo',\n",
              " 'skripal',\n",
              " 'officer',\n",
              " 'atomaweapon',\n",
              " 'puny',\n",
              " 'trudeau',\n",
              " 'you',\n",
              " 'ho',\n",
              " 'you',\n",
              " 'fucking',\n",
              " 'him',\n",
              " 'him',\n",
              " 'he',\n",
              " 'him',\n",
              " 'homo',\n",
              " 'paedo',\n",
              " 'dave',\n",
              " 'dirty',\n",
              " 'slut',\n",
              " 'their',\n",
              " 'gay',\n",
              " 'nazi',\n",
              " 'faggot',\n",
              " 'you',\n",
              " 'heterosexual',\n",
              " 'taoiseach',\n",
              " 'homosexual',\n",
              " 'sodomite',\n",
              " 'some',\n",
              " 'dumb',\n",
              " 'those',\n",
              " 'hoe',\n",
              " 'retarded',\n",
              " 'they',\n",
              " 'this',\n",
              " 'bitch',\n",
              " 'he',\n",
              " 'pervert',\n",
              " 'gay',\n",
              " 'guy',\n",
              " 'traffickers',\n",
              " 'ugly',\n",
              " 'homosexuals',\n",
              " 'community',\n",
              " 'muslims',\n",
              " 'you',\n",
              " 'tiddies',\n",
              " 'bitch',\n",
              " 'black',\n",
              " 'boy',\n",
              " 'you',\n",
              " 'you',\n",
              " 'fags',\n",
              " 'women',\n",
              " 'you',\n",
              " 'gross',\n",
              " 'gang',\n",
              " 'little',\n",
              " 'mufuckin',\n",
              " 'bitch',\n",
              " 'gay',\n",
              " 'gays',\n",
              " 'sergei',\n",
              " 'fuckin',\n",
              " 'lesbos',\n",
              " 'woman',\n",
              " 'commie',\n",
              " 'muzzrats',\n",
              " 'commie',\n",
              " 'david',\n",
              " 'hogg',\n",
              " 'your',\n",
              " 'queer',\n",
              " 'bendover',\n",
              " 'dumb',\n",
              " 'he',\n",
              " 'pos',\n",
              " 'you',\n",
              " 'low',\n",
              " 'lifes',\n",
              " 'ass',\n",
              " 'kai',\n",
              " 'daniel',\n",
              " 'baroness',\n",
              " 'chimp',\n",
              " 'gay',\n",
              " 'istandwithisrael',\n",
              " 'fag',\n",
              " 'her',\n",
              " 'women',\n",
              " 'pussy',\n",
              " 'nye',\n",
              " 'gay',\n",
              " 'you',\n",
              " 'retarded',\n",
              " 'jeff',\n",
              " 'he',\n",
              " 'fag',\n",
              " 'neocon',\n",
              " 'you',\n",
              " 'michael',\n",
              " 'moore',\n",
              " 'gay',\n",
              " 'muddy',\n",
              " 'murca',\n",
              " 'lunatic',\n",
              " 'same',\n",
              " 'lil',\n",
              " 'homosexual',\n",
              " 'your',\n",
              " 'horseshoe',\n",
              " 'they',\n",
              " 'they',\n",
              " 'cat',\n",
              " 'ya',\n",
              " 'fag',\n",
              " 'yall',\n",
              " 'kike',\n",
              " 'jewish',\n",
              " 'white',\n",
              " 'queer',\n",
              " 'your',\n",
              " 'gf',\n",
              " 'duper',\n",
              " 'you',\n",
              " 'you',\n",
              " 'crybaby',\n",
              " 'women',\n",
              " 'gays',\n",
              " 'these',\n",
              " 'ur',\n",
              " 'based',\n",
              " 'grandson',\n",
              " 'pakistani',\n",
              " 'cricketer',\n",
              " 'broke',\n",
              " 'hoe',\n",
              " 'he',\n",
              " 'they',\n",
              " 'burritos',\n",
              " 'straight',\n",
              " 'white',\n",
              " 'men',\n",
              " 'you',\n",
              " 'silly',\n",
              " 'retard',\n",
              " 'dirty',\n",
              " 'retarded',\n",
              " 'women',\n",
              " 'asshole',\n",
              " 'kennedy',\n",
              " 'you',\n",
              " 'she',\n",
              " 'scum',\n",
              " 'punk',\n",
              " 'ass',\n",
              " 'women',\n",
              " 'you',\n",
              " 'bitch',\n",
              " 'ymca',\n",
              " 'homosexual',\n",
              " 'edwin',\n",
              " 'you',\n",
              " 'you',\n",
              " 'edwin',\n",
              " 'duterte',\n",
              " 'faggot',\n",
              " 'philippines',\n",
              " 'white',\n",
              " 'liberals',\n",
              " 'kate',\n",
              " 'spade',\n",
              " 'her',\n",
              " 'husband',\n",
              " 'pizzagate',\n",
              " 'daughter',\n",
              " 'bitch',\n",
              " 'you',\n",
              " 'you',\n",
              " 'race',\n",
              " 'coworker',\n",
              " 'you',\n",
              " 'lumbersexual',\n",
              " 'trudeau',\n",
              " 'faggot',\n",
              " 'lindsey',\n",
              " 'graham',\n",
              " 'american',\n",
              " 'neoconservatives',\n",
              " 'canadian',\n",
              " 'liberals',\n",
              " 'leftists',\n",
              " 'he',\n",
              " 'you',\n",
              " 'you',\n",
              " 'girl',\n",
              " 'pedospic',\n",
              " 'boy',\n",
              " 'toy',\n",
              " 'these',\n",
              " 'hoe',\n",
              " 'he',\n",
              " 'classy',\n",
              " 'you',\n",
              " 'faggot',\n",
              " 'muslim',\n",
              " 'muslims',\n",
              " 'faggot',\n",
              " 'gen',\n",
              " 'z',\n",
              " 'sodomite',\n",
              " 'donald',\n",
              " 'trump',\n",
              " 'women',\n",
              " 'she',\n",
              " 'you',\n",
              " 'fbi',\n",
              " 'gestappo',\n",
              " 'paranoid',\n",
              " 'you',\n",
              " 'dany',\n",
              " 'gays',\n",
              " 'gays',\n",
              " 'muhammad',\n",
              " 'corrupt',\n",
              " 'obama',\n",
              " 'cum',\n",
              " 'guzzling',\n",
              " 'these',\n",
              " 'players',\n",
              " 'their',\n",
              " 'wives',\n",
              " 'pro',\n",
              " 'you',\n",
              " 'liberals',\n",
              " 'his',\n",
              " 'racism',\n",
              " 'smallest',\n",
              " 'fleas',\n",
              " 'society',\n",
              " 'women',\n",
              " 'women',\n",
              " 'men',\n",
              " 'her',\n",
              " 'gay',\n",
              " 'you',\n",
              " 'you',\n",
              " 'enabler',\n",
              " 'fag',\n",
              " 'beat',\n",
              " 'her',\n",
              " 'ass',\n",
              " 'pretty',\n",
              " 'bitchy',\n",
              " 'of',\n",
              " 'german',\n",
              " 'swedish',\n",
              " 'his',\n",
              " 'kind',\n",
              " 'stupidity',\n",
              " 'their',\n",
              " 'these',\n",
              " 'irrelevant',\n",
              " 'wombs',\n",
              " 'married',\n",
              " 'you',\n",
              " 'husbands',\n",
              " 'christians',\n",
              " 'disease',\n",
              " 'pedophiling',\n",
              " 'aids',\n",
              " 'hates',\n",
              " 'villains',\n",
              " 'beat',\n",
              " 'ass',\n",
              " 'faggot',\n",
              " 'nazi',\n",
              " 'fag',\n",
              " 'them',\n",
              " 'old',\n",
              " 'ass',\n",
              " 'great',\n",
              " 'uncle',\n",
              " 'ass',\n",
              " 'males',\n",
              " 'losers',\n",
              " 'gays',\n",
              " 'they',\n",
              " 'head',\n",
              " 'mlk',\n",
              " 'prostitute',\n",
              " 'you',\n",
              " 'they',\n",
              " 'loosewomen',\n",
              " 'trey',\n",
              " 'gowdy',\n",
              " 'fagsex',\n",
              " 'dem',\n",
              " 'c*unt',\n",
              " 'these',\n",
              " 'thots',\n",
              " 'bad',\n",
              " 'your',\n",
              " 'retard',\n",
              " 'brits',\n",
              " '<percent>',\n",
              " 'they',\n",
              " 'you',\n",
              " 'ali',\n",
              " 'mudslime',\n",
              " 'antipope',\n",
              " 'pesky',\n",
              " 'he',\n",
              " 'white',\n",
              " 'obama',\n",
              " 'president',\n",
              " 'salamander',\n",
              " 'goyim',\n",
              " 'supa',\n",
              " 'whitebreads',\n",
              " 'gen',\n",
              " 'wintrich',\n",
              " 'peaches',\n",
              " 'person',\n",
              " 'bing',\n",
              " 'white',\n",
              " 'white',\n",
              " 'enormous',\n",
              " 'kangz',\n",
              " 'kike',\n",
              " 'curry',\n",
              " 'streetpooper',\n",
              " 'cuckstians',\n",
              " 'jews',\n",
              " 'illegal',\n",
              " 'hookers',\n",
              " 'bitch',\n",
              " 'bailey',\n",
              " 'labour',\n",
              " 'rapists',\n",
              " 'mf',\n",
              " 'bitch',\n",
              " 'national',\n",
              " 'pepperidge',\n",
              " 'alcholics',\n",
              " 'christian',\n",
              " 'she',\n",
              " 'piffy',\n",
              " 'hack',\n",
              " 'gay',\n",
              " 'leftist',\n",
              " 'rag',\n",
              " 'head',\n",
              " 'whites',\n",
              " 'whites',\n",
              " 'nigger',\n",
              " 'u',\n",
              " 'evil',\n",
              " 'puff',\n",
              " 'boy',\n",
              " 'he',\n",
              " 'you',\n",
              " 'guys',\n",
              " 'msm',\n",
              " 'moslem',\n",
              " 'patriots',\n",
              " 'refugees',\n",
              " 'gay',\n",
              " 'weird',\n",
              " 'fucking',\n",
              " 'illegal',\n",
              " 'immigrant',\n",
              " 'dick',\n",
              " 'wingers',\n",
              " 'special',\n",
              " 'prosecutor',\n",
              " 'he',\n",
              " 'tommy',\n",
              " 'goatfucker',\n",
              " '‘',\n",
              " 'trannies',\n",
              " 'dune',\n",
              " 'dune',\n",
              " 'antifa',\n",
              " 'female',\n",
              " 'every',\n",
              " 'last',\n",
              " 'leaky',\n",
              " 'weiner',\n",
              " 'that',\n",
              " 'she',\n",
              " 'rosenstein',\n",
              " 'little',\n",
              " 'these',\n",
              " 'this',\n",
              " 'she',\n",
              " 'her',\n",
              " 'dumb',\n",
              " 'solitary',\n",
              " 'such',\n",
              " 'folks',\n",
              " 'retarded',\n",
              " 'sand',\n",
              " 'american',\n",
              " 'hoe',\n",
              " 'white',\n",
              " 'south',\n",
              " 'afrikans',\n",
              " 'frenchies',\n",
              " 'liberals',\n",
              " 'both',\n",
              " 'sides',\n",
              " 'racist',\n",
              " 'you',\n",
              " 'illegal',\n",
              " 'their',\n",
              " 'refugee',\n",
              " 'illegal',\n",
              " 'immigrant',\n",
              " 'kimjongun',\n",
              " 'retarded',\n",
              " 'people',\n",
              " 'northkorea',\n",
              " 'his',\n",
              " 'white',\n",
              " 'asian',\n",
              " 'african',\n",
              " '<number>',\n",
              " 'his',\n",
              " 'bill',\n",
              " 'clinton',\n",
              " 'slick',\n",
              " 'mom',\n",
              " 'little',\n",
              " 'toddler',\n",
              " 'rightwingdeathsquad',\n",
              " 'fucking',\n",
              " 'saint',\n",
              " 'sir',\n",
              " 'adolf',\n",
              " 'chinese',\n",
              " 'ching',\n",
              " 'chong',\n",
              " 'ching',\n",
              " 'chong',\n",
              " 'retarded',\n",
              " 'democrat',\n",
              " 'shitty',\n",
              " 'gab',\n",
              " 'kike',\n",
              " 'hamed',\n",
              " 'jewesses',\n",
              " 'jews',\n",
              " 'cousins',\n",
              " 'jews',\n",
              " 'hoe',\n",
              " 'ford',\n",
              " 'kike',\n",
              " 'extremist',\n",
              " 'degenerate',\n",
              " 'deplorable',\n",
              " 'poor',\n",
              " 'crap',\n",
              " 'little',\n",
              " 'retarded',\n",
              " 'she',\n",
              " 'communist',\n",
              " 'moslem',\n",
              " 'cock',\n",
              " 'hypocrites',\n",
              " 'guy',\n",
              " 'wife',\n",
              " 'china',\n",
              " 'kike',\n",
              " 'atheists',\n",
              " 'aussie',\n",
              " 'armenian',\n",
              " 'changkyun',\n",
              " 'thotty',\n",
              " 'whites',\n",
              " 'non',\n",
              " 'whites',\n",
              " 'you',\n",
              " 'little',\n",
              " 'oprah',\n",
              " 'trudeau',\n",
              " 'those',\n",
              " 'chinese',\n",
              " 'whiteness',\n",
              " 'pennsylvania',\n",
              " 'creep',\n",
              " 'islamo',\n",
              " 'she',\n",
              " 'she',\n",
              " 'sex',\n",
              " 'offenders',\n",
              " 'rapist',\n",
              " 'you',\n",
              " 'moron',\n",
              " 'they',\n",
              " 'fake',\n",
              " 'kike',\n",
              " 'goyim',\n",
              " 'they',\n",
              " 'illegal',\n",
              " 'wethepeople',\n",
              " 'your',\n",
              " 'moms',\n",
              " 'women',\n",
              " 'you',\n",
              " 'you',\n",
              " 'volcanos',\n",
              " 'you',\n",
              " 'spawn',\n",
              " 'moron',\n",
              " 'east',\n",
              " 'fat',\n",
              " 'ass',\n",
              " 'built',\n",
              " 'girls',\n",
              " 'anne',\n",
              " 'coulter',\n",
              " 'laura',\n",
              " 'ingrahm',\n",
              " 'anne',\n",
              " 'coulter',\n",
              " 'burqa',\n",
              " 'betsy',\n",
              " 'gay',\n",
              " 'mudslime',\n",
              " 'white',\n",
              " 'christian',\n",
              " 'woman',\n",
              " 'betsy',\n",
              " 'lil',\n",
              " 'wannabe',\n",
              " 'cowboy',\n",
              " 'freaks',\n",
              " 'fucking',\n",
              " 'eurofaggots',\n",
              " 'indian',\n",
              " 'fascsit',\n",
              " 'parasites',\n",
              " 'white',\n",
              " 'countries',\n",
              " 'fucking',\n",
              " 'liberals',\n",
              " 'north',\n",
              " 'she',\n",
              " 'fake',\n",
              " 'frustrated',\n",
              " 'camels',\n",
              " 'socialists',\n",
              " 'dems',\n",
              " 'moslem',\n",
              " 'islamist',\n",
              " 'wife',\n",
              " 'brownies',\n",
              " 'face',\n",
              " 'gutierrez',\n",
              " 'you',\n",
              " 'pedos',\n",
              " 'jewish',\n",
              " 'israel',\n",
              " 'shooter',\n",
              " 'chick',\n",
              " 'wetbacks',\n",
              " 'heebhole',\n",
              " 'cunt',\n",
              " 'fuentes',\n",
              " 'mexican',\n",
              " 'shit',\n",
              " 'rip',\n",
              " 'christcuck',\n",
              " 'hippy',\n",
              " 'you',\n",
              " 'you',\n",
              " 'fucking',\n",
              " 'conquistadors',\n",
              " 'spanish',\n",
              " 'communists',\n",
              " 'tounge',\n",
              " 'nation',\n",
              " 'drugs',\n",
              " 'illegal',\n",
              " 'hispanocaust',\n",
              " 'nick',\n",
              " 'the',\n",
              " 'fuentes',\n",
              " 'savvy',\n",
              " 'boomer',\n",
              " 'conservatives',\n",
              " 'you',\n",
              " 'kid',\n",
              " 'stormer',\n",
              " 'nationalists']"
            ]
          },
          "metadata": {},
          "execution_count": 5
        }
      ]
    },
    {
      "cell_type": "code",
      "source": [
        "!wget 'https://nlp.stanford.edu/software/stanford-postagger-full-2017-06-09.zip'"
      ],
      "metadata": {
        "colab": {
          "base_uri": "https://localhost:8080/"
        },
        "id": "6Vrkg69mTucc",
        "outputId": "01a49068-3036-41d5-b2d3-27fade00e397"
      },
      "execution_count": null,
      "outputs": [
        {
          "output_type": "stream",
          "name": "stdout",
          "text": [
            "--2023-03-05 04:30:41--  https://nlp.stanford.edu/software/stanford-postagger-full-2017-06-09.zip\n",
            "Resolving nlp.stanford.edu (nlp.stanford.edu)... 171.64.67.140\n",
            "Connecting to nlp.stanford.edu (nlp.stanford.edu)|171.64.67.140|:443... connected.\n",
            "HTTP request sent, awaiting response... 302 FOUND\n",
            "Location: https://downloads.cs.stanford.edu/nlp/software/stanford-postagger-full-2017-06-09.zip [following]\n",
            "--2023-03-05 04:30:41--  https://downloads.cs.stanford.edu/nlp/software/stanford-postagger-full-2017-06-09.zip\n",
            "Resolving downloads.cs.stanford.edu (downloads.cs.stanford.edu)... 171.64.64.22\n",
            "Connecting to downloads.cs.stanford.edu (downloads.cs.stanford.edu)|171.64.64.22|:443... connected.\n",
            "HTTP request sent, awaiting response... 200 OK\n",
            "Length: 134295971 (128M) [application/zip]\n",
            "Saving to: ‘stanford-postagger-full-2017-06-09.zip’\n",
            "\n",
            "stanford-postagger- 100%[===================>] 128.07M  5.13MB/s    in 21s     \n",
            "\n",
            "2023-03-05 04:31:02 (6.05 MB/s) - ‘stanford-postagger-full-2017-06-09.zip’ saved [134295971/134295971]\n",
            "\n"
          ]
        }
      ]
    },
    {
      "cell_type": "code",
      "source": [
        "!ls"
      ],
      "metadata": {
        "colab": {
          "base_uri": "https://localhost:8080/"
        },
        "id": "8gWwai3kUB13",
        "outputId": "346b4684-a992-4f3a-dcd0-4ce083fb5dfe"
      },
      "execution_count": null,
      "outputs": [
        {
          "output_type": "stream",
          "name": "stdout",
          "text": [
            "distil-binary.csv  sample_data\tstanford-postagger-full-2017-06-09.zip\n"
          ]
        }
      ]
    },
    {
      "cell_type": "code",
      "source": [
        "\n",
        "pos_tags = nltk.pos_tag(error_tokens)\n",
        "pos_tags = [i[1] for i in pos_tags]\n",
        "print(len(error_tokens))"
      ],
      "metadata": {
        "colab": {
          "base_uri": "https://localhost:8080/",
          "height": 207
        },
        "id": "yP5TBrHcSkas",
        "outputId": "9f764f58-a1d6-4610-c808-33f5b530b845"
      },
      "execution_count": null,
      "outputs": [
        {
          "output_type": "error",
          "ename": "NameError",
          "evalue": "ignored",
          "traceback": [
            "\u001b[0;31m---------------------------------------------------------------------------\u001b[0m",
            "\u001b[0;31mNameError\u001b[0m                                 Traceback (most recent call last)",
            "\u001b[0;32m<ipython-input-8-142db85e704d>\u001b[0m in \u001b[0;36m<module>\u001b[0;34m\u001b[0m\n\u001b[0;32m----> 1\u001b[0;31m \u001b[0mpos_tags\u001b[0m \u001b[0;34m=\u001b[0m \u001b[0mnltk\u001b[0m\u001b[0;34m.\u001b[0m\u001b[0mpos_tag\u001b[0m\u001b[0;34m(\u001b[0m\u001b[0merror_tokens\u001b[0m\u001b[0;34m)\u001b[0m\u001b[0;34m\u001b[0m\u001b[0;34m\u001b[0m\u001b[0m\n\u001b[0m\u001b[1;32m      2\u001b[0m \u001b[0mpos_tags\u001b[0m \u001b[0;34m=\u001b[0m \u001b[0;34m[\u001b[0m\u001b[0mi\u001b[0m\u001b[0;34m[\u001b[0m\u001b[0;36m1\u001b[0m\u001b[0;34m]\u001b[0m \u001b[0;32mfor\u001b[0m \u001b[0mi\u001b[0m \u001b[0;32min\u001b[0m \u001b[0mpos_tags\u001b[0m\u001b[0;34m]\u001b[0m\u001b[0;34m\u001b[0m\u001b[0;34m\u001b[0m\u001b[0m\n\u001b[1;32m      3\u001b[0m \u001b[0mprint\u001b[0m\u001b[0;34m(\u001b[0m\u001b[0mlen\u001b[0m\u001b[0;34m(\u001b[0m\u001b[0merror_tokens\u001b[0m\u001b[0;34m)\u001b[0m\u001b[0;34m)\u001b[0m\u001b[0;34m\u001b[0m\u001b[0;34m\u001b[0m\u001b[0m\n",
            "\u001b[0;31mNameError\u001b[0m: name 'nltk' is not defined"
          ]
        }
      ]
    },
    {
      "cell_type": "code",
      "source": [
        "\n",
        "\n",
        "testje = pd.Series(pos_tags).value_counts(normalize=True).round(3)\n",
        "testje2 = pd.Series(pos_tags).value_counts().astype(int)\n",
        "\n",
        "dataframepje = pd.DataFrame([testje2,testje]).T\n",
        "dataframepje[0] = dataframepje[0].astype(int)\n",
        "print(dataframepje.to_latex())"
      ],
      "metadata": {
        "id": "NGf-cDfyXVi1"
      },
      "execution_count": null,
      "outputs": []
    },
    {
      "cell_type": "code",
      "source": [
        "from sklearn.metrics import confusion_matrix\n",
        "from sklearn.metrics import classification_report\n",
        "\n",
        "report = classification_report(gold, preds,output_dict=True)\n",
        "\n",
        "df = pd.DataFrame(report).transpose()\n",
        "\n",
        "df.to_latex()"
      ],
      "metadata": {
        "id": "EBmaQTwa7XWM"
      },
      "execution_count": null,
      "outputs": []
    },
    {
      "cell_type": "code",
      "source": [
        "from sklearn import metrics\n",
        "import matplotlib.pyplot as plt\n",
        "import seaborn as sns; sns.set_theme(style='white')\n",
        "from matplotlib.colors import LogNorm, Normalize\n",
        "\n",
        "cm = metrics.confusion_matrix(gold, preds, labels=[0,1])\n",
        "# plt.title(\"distilBERT_3epoch\", fontsize =20)\n",
        "sns.heatmap(cm, annot=True,fmt='d',square=True, norm=LogNorm(),cmap = \"Greys\").set(xlabel='Predicted Label', ylabel='True Label');\n",
        "plt.savefig('binaryyy.pdf',dpi=300)\n",
        "plt.show()"
      ],
      "metadata": {
        "id": "Nz2JNMHc7k7x",
        "colab": {
          "base_uri": "https://localhost:8080/",
          "height": 285
        },
        "outputId": "ad8a061c-660d-4c21-8f0c-b1e9aa387b41"
      },
      "execution_count": null,
      "outputs": [
        {
          "output_type": "display_data",
          "data": {
            "text/plain": [
              "<Figure size 432x288 with 2 Axes>"
            ],
            "image/png": "[encoded data removed]"
          },
          "metadata": {}
        }
      ]
    },
    {
      "cell_type": "code",
      "source": [
        "for index, token in enumerate(reconstructed_flat):\n",
        "    if token != tokens_gold[index]:\n",
        "        print(index,tokens_gold[index], token, gold[index], preds[index])"
      ],
      "metadata": {
        "id": "vZnduaXH6oc4"
      },
      "execution_count": null,
      "outputs": []
    },
    {
      "cell_type": "code",
      "source": [
        "zipped_list_labels = []\n",
        "\n",
        "for sent_index,sentence in enumerate(final_list_tokens):\n",
        "    sent_list = []\n",
        "    for token_index, token in enumerate(sentence):\n",
        "        sent_list.append((token, final_list_labels[sent_index][token_index]))\n",
        "    zipped_list_labels.append(sent_list)\n",
        "\n",
        "import csv\n",
        "with open(\"/drive/My Drive/thesis_sybren/BERTs/DistilBERT/reconstructed_preds_distilBERT-binary.csv\", \"w\") as f:\n",
        "    writer = csv.writer(f)\n",
        "    writer.writerows(zipped_list_labels)"
      ],
      "metadata": {
        "id": "fZwizOd6XPFw"
      },
      "execution_count": null,
      "outputs": []
    },
    {
      "cell_type": "code",
      "source": [],
      "metadata": {
        "id": "tL7CHUnWEh6N"
      },
      "execution_count": null,
      "outputs": []
    },
    {
      "cell_type": "code",
      "source": [
        "baseline = [0] * len(gold)\n",
        "\n",
        "\n",
        "report = classification_report(gold, baseline, output_dict=True)\n",
        "df = pd.DataFrame(report).transpose()\n",
        "print(df)\n",
        "\n",
        "\n",
        "cm = metrics.confusion_matrix(gold, baseline, labels=[0,1])\n",
        "plt.title(\"distilBERT_3epoch_0baseline\", fontsize =20)\n",
        "sns.heatmap(cm, annot=True,fmt='d',square=True, norm=LogNorm(),cmap = \"Blues\").set(xlabel='Predicted Label', ylabel='True Label');\n",
        "\n",
        "plt.show()"
      ],
      "metadata": {
        "id": "FN42SARwH7Am",
        "colab": {
          "base_uri": "https://localhost:8080/",
          "height": 546
        },
        "outputId": "15e8ba7b-b50e-4598-d57b-1434eb6d0b89"
      },
      "execution_count": null,
      "outputs": [
        {
          "output_type": "stream",
          "name": "stderr",
          "text": [
            "/usr/local/lib/python3.7/dist-packages/sklearn/metrics/_classification.py:1318: UndefinedMetricWarning: Precision and F-score are ill-defined and being set to 0.0 in labels with no predicted samples. Use `zero_division` parameter to control this behavior.\n",
            "  _warn_prf(average, modifier, msg_start, len(result))\n",
            "/usr/local/lib/python3.7/dist-packages/sklearn/metrics/_classification.py:1318: UndefinedMetricWarning: Precision and F-score are ill-defined and being set to 0.0 in labels with no predicted samples. Use `zero_division` parameter to control this behavior.\n",
            "  _warn_prf(average, modifier, msg_start, len(result))\n",
            "/usr/local/lib/python3.7/dist-packages/sklearn/metrics/_classification.py:1318: UndefinedMetricWarning: Precision and F-score are ill-defined and being set to 0.0 in labels with no predicted samples. Use `zero_division` parameter to control this behavior.\n",
            "  _warn_prf(average, modifier, msg_start, len(result))\n"
          ]
        },
        {
          "output_type": "stream",
          "name": "stdout",
          "text": [
            "              precision    recall  f1-score       support\n",
            "0              0.879479  1.000000  0.935875  12493.000000\n",
            "1              0.000000  0.000000  0.000000   1712.000000\n",
            "accuracy       0.879479  0.879479  0.879479      0.879479\n",
            "macro avg      0.439740  0.500000  0.467938  14205.000000\n",
            "weighted avg   0.773483  0.879479  0.823083  14205.000000\n"
          ]
        },
        {
          "output_type": "display_data",
          "data": {
            "text/plain": [
              "<Figure size 432x288 with 2 Axes>"
            ],
            "image/png": "[encoded data removed]"
          },
          "metadata": {}
        }
      ]
    },
    {
      "cell_type": "code",
      "source": [
        "gold_binary = [1 if i==2 else i for i in gold]\n",
        "preds_binary = [1 if i==2 else i for i in preds]\n",
        "\n",
        "report = classification_report(gold_binary, preds_binary, output_dict=True)\n",
        "df_je = pd.DataFrame(report).transpose()\n",
        "print(df_je)\n",
        "print()\n",
        "report = classification_report(gold, preds, output_dict=True)\n",
        "df = pd.DataFrame(report).transpose()\n",
        "print(df)\n",
        "\n",
        "\n",
        "cm = metrics.confusion_matrix(gold_binary, preds_binary, labels=[0,1])\n",
        "plt.title(\"distilBERT_3epoch_BINARY\", fontsize =20)\n",
        "sns.heatmap(cm, annot=True,fmt='d',square=True, norm=LogNorm(),cmap = \"Blues\").set(xlabel='Predicted Label', ylabel='True Label');\n",
        "\n",
        "plt.show()"
      ],
      "metadata": {
        "id": "srH13qMUFMVw",
        "colab": {
          "base_uri": "https://localhost:8080/",
          "height": 545
        },
        "outputId": "72e68d66-d37d-409c-86df-4fef658069c5"
      },
      "execution_count": null,
      "outputs": [
        {
          "output_type": "stream",
          "name": "stdout",
          "text": [
            "              precision    recall  f1-score       support\n",
            "0              0.968850  0.968462  0.968656  12493.000000\n",
            "1              0.770530  0.772780  0.771654   1712.000000\n",
            "accuracy       0.944879  0.944879  0.944879      0.944879\n",
            "macro avg      0.869690  0.870621  0.870155  14205.000000\n",
            "weighted avg   0.944948  0.944879  0.944913  14205.000000\n",
            "\n",
            "              precision    recall  f1-score       support\n",
            "0              0.968850  0.968462  0.968656  12493.000000\n",
            "1              0.770530  0.772780  0.771654   1712.000000\n",
            "accuracy       0.944879  0.944879  0.944879      0.944879\n",
            "macro avg      0.869690  0.870621  0.870155  14205.000000\n",
            "weighted avg   0.944948  0.944879  0.944913  14205.000000\n"
          ]
        },
        {
          "output_type": "display_data",
          "data": {
            "text/plain": [
              "<Figure size 432x288 with 2 Axes>"
            ],
            "image/png": "[encoded data removed]"
          },
          "metadata": {}
        }
      ]
    },
    {
      "cell_type": "code",
      "source": [
        "for index, label in enumerate(gold):\n",
        "    if label == 2:\n",
        "        gold[index] = 1"
      ],
      "metadata": {
        "id": "pG1nDNU-Eibw"
      },
      "execution_count": null,
      "outputs": []
    },
    {
      "cell_type": "code",
      "source": [
        "report = classification_report(gold, preds, output_dict=True)\n",
        "df = pd.DataFrame(report).transpose()\n",
        "print(df)"
      ],
      "metadata": {
        "id": "p_HiAY1GQdHL",
        "colab": {
          "base_uri": "https://localhost:8080/"
        },
        "outputId": "a2389660-e535-43f3-d11e-c47be49fc305"
      },
      "execution_count": null,
      "outputs": [
        {
          "output_type": "stream",
          "name": "stdout",
          "text": [
            "              precision    recall  f1-score       support\n",
            "0              0.968850  0.968462  0.968656  12493.000000\n",
            "1              0.770530  0.772780  0.771654   1712.000000\n",
            "accuracy       0.944879  0.944879  0.944879      0.944879\n",
            "macro avg      0.869690  0.870621  0.870155  14205.000000\n",
            "weighted avg   0.944948  0.944879  0.944913  14205.000000\n"
          ]
        }
      ]
    },
    {
      "cell_type": "code",
      "source": [
        "test.labels.tolist()[0]"
      ],
      "metadata": {
        "id": "22CMxM-fAgLj",
        "colab": {
          "base_uri": "https://localhost:8080/"
        },
        "outputId": "1c1119fe-ff2d-4bcb-d9d7-ce763e462ef6"
      },
      "execution_count": null,
      "outputs": [
        {
          "output_type": "execute_result",
          "data": {
            "text/plain": [
              "[0, 0, 1, 0, 1, 0]"
            ]
          },
          "metadata": {},
          "execution_count": 12
        }
      ]
    },
    {
      "cell_type": "code",
      "source": [
        "final_list_labels[0]"
      ],
      "metadata": {
        "id": "A95JbjlsAcKs",
        "colab": {
          "base_uri": "https://localhost:8080/"
        },
        "outputId": "ee565844-acb9-4595-adf9-52121666bf36"
      },
      "execution_count": null,
      "outputs": [
        {
          "output_type": "execute_result",
          "data": {
            "text/plain": [
              "[0, 0, 1, 1, 1, 0]"
            ]
          },
          "metadata": {},
          "execution_count": 13
        }
      ]
    },
    {
      "cell_type": "code",
      "source": [
        "gold = 2\n",
        "pred = 1\n",
        "gold2_pred1 = []\n",
        "\n",
        "for sent_index_labels,list_of_gold_labels in enumerate(test.labels.to_list()):\n",
        "    # print(sent_index_labels)\n",
        "    if test.labels.to_list()[sent_index_labels] != final_list_labels[sent_index_labels]:\n",
        "        for token_index, token in enumerate(final_list_labels[sent_index_labels]):\n",
        "            if (token == pred and test.labels.to_list()[sent_index_labels][token_index]==gold):\n",
        "                #print(test.tokens.iloc[sent_index_labels])\n",
        "                #print(f'gold: {list(zip(test.tokens.to_list()[sent_index_labels], test.labels.to_list()[sent_index_labels]))}')\n",
        "                #print(f'preds: {list(zip(test.tokens.to_list()[sent_index_labels],final_list_labels[sent_index_labels]))}')\n",
        "            # print(f'gold:  {test.labels.to_list()[sent_index_labels]} ')\n",
        "                # print(f'pred:  {final_list_labels[sent_index_labels]}')\n",
        "                gold2_pred1.append(sent_index_labels)\n",
        "    # if list_of_gold_labels != final_list_labels[sent_index_labels]:\n",
        "    #     print(final_list_tokens[sent_index])\n",
        "\n",
        "len(gold2_pred1)"
      ],
      "metadata": {
        "id": "Y2WZOp12EQrg",
        "colab": {
          "base_uri": "https://localhost:8080/"
        },
        "outputId": "91d1d2c1-8a8f-4b7b-e922-39dfbae971ac"
      },
      "execution_count": null,
      "outputs": [
        {
          "output_type": "execute_result",
          "data": {
            "text/plain": [
              "0"
            ]
          },
          "metadata": {},
          "execution_count": 14
        }
      ]
    },
    {
      "cell_type": "code",
      "source": [
        "gold = 1\n",
        "pred = 2\n",
        "gold1_pred2 = []\n",
        "\n",
        "for sent_index_labels,list_of_gold_labels in enumerate(test.labels.to_list()):\n",
        "    # print(sent_index_labels)\n",
        "    if test.labels.to_list()[sent_index_labels] != final_list_labels[sent_index_labels]:\n",
        "        for token_index, token in enumerate(final_list_labels[sent_index_labels]):\n",
        "            if (token == pred and test.labels.to_list()[sent_index_labels][token_index]==gold):\n",
        "                #print(test.tokens.iloc[sent_index_labels])\n",
        "                #print(f'gold: {list(zip(test.tokens.to_list()[sent_index_labels], test.labels.to_list()[sent_index_labels]))}')\n",
        "                #print(f'preds: {list(zip(test.tokens.to_list()[sent_index_labels],final_list_labels[sent_index_labels]))}')\n",
        "            # print(f'gold:  {test.labels.to_list()[sent_index_labels]} ')\n",
        "                # print(f'pred:  {final_list_labels[sent_index_labels]}')\n",
        "                gold1_pred2.append(sent_index_labels)\n",
        "    # if list_of_gold_labels != final_list_labels[sent_index_labels]:\n",
        "    #     print(final_list_tokens[sent_index])\n",
        "\n",
        "len(gold1_pred2)"
      ],
      "metadata": {
        "id": "ey4tvr0__NOc",
        "colab": {
          "base_uri": "https://localhost:8080/"
        },
        "outputId": "a52619d4-212f-44bd-ea61-209ffac23713"
      },
      "execution_count": null,
      "outputs": [
        {
          "output_type": "execute_result",
          "data": {
            "text/plain": [
              "0"
            ]
          },
          "metadata": {},
          "execution_count": 15
        }
      ]
    },
    {
      "cell_type": "code",
      "source": [],
      "metadata": {
        "id": "Ioeb0Va0IevR",
        "colab": {
          "base_uri": "https://localhost:8080/",
          "height": 397
        },
        "outputId": "3923a7a5-6af9-494a-96b4-9ff612e1d851"
      },
      "execution_count": null,
      "outputs": [
        {
          "output_type": "error",
          "ename": "TypeError",
          "evalue": "ignored",
          "traceback": [
            "\u001b[0;31m---------------------------------------------------------------------------\u001b[0m",
            "\u001b[0;31mTypeError\u001b[0m                                 Traceback (most recent call last)",
            "\u001b[0;32m<ipython-input-16-e4083ad19927>\u001b[0m in \u001b[0;36m<module>\u001b[0;34m\u001b[0m\n\u001b[0;32m----> 1\u001b[0;31m \u001b[0mcm\u001b[0m \u001b[0;34m=\u001b[0m \u001b[0mmetrics\u001b[0m\u001b[0;34m.\u001b[0m\u001b[0mconfusion_matrix\u001b[0m\u001b[0;34m(\u001b[0m\u001b[0mgold\u001b[0m\u001b[0;34m,\u001b[0m \u001b[0mpreds\u001b[0m\u001b[0;34m,\u001b[0m \u001b[0mlabels\u001b[0m\u001b[0;34m=\u001b[0m\u001b[0;34m[\u001b[0m\u001b[0;36m0\u001b[0m\u001b[0;34m,\u001b[0m\u001b[0;36m1\u001b[0m\u001b[0;34m,\u001b[0m\u001b[0;36m2\u001b[0m\u001b[0;34m]\u001b[0m\u001b[0;34m)\u001b[0m\u001b[0;34m\u001b[0m\u001b[0;34m\u001b[0m\u001b[0m\n\u001b[0m\u001b[1;32m      2\u001b[0m \u001b[0mplt\u001b[0m\u001b[0;34m.\u001b[0m\u001b[0mtitle\u001b[0m\u001b[0;34m(\u001b[0m\u001b[0;34m\"distilBERT_3epoch\"\u001b[0m\u001b[0;34m,\u001b[0m \u001b[0mfontsize\u001b[0m \u001b[0;34m=\u001b[0m\u001b[0;36m20\u001b[0m\u001b[0;34m)\u001b[0m\u001b[0;34m\u001b[0m\u001b[0;34m\u001b[0m\u001b[0m\n\u001b[1;32m      3\u001b[0m \u001b[0msns\u001b[0m\u001b[0;34m.\u001b[0m\u001b[0mheatmap\u001b[0m\u001b[0;34m(\u001b[0m\u001b[0mcm\u001b[0m\u001b[0;34m,\u001b[0m \u001b[0mannot\u001b[0m\u001b[0;34m=\u001b[0m\u001b[0;32mTrue\u001b[0m\u001b[0;34m,\u001b[0m\u001b[0mfmt\u001b[0m\u001b[0;34m=\u001b[0m\u001b[0;34m'd'\u001b[0m\u001b[0;34m,\u001b[0m\u001b[0msquare\u001b[0m\u001b[0;34m=\u001b[0m\u001b[0;32mTrue\u001b[0m\u001b[0;34m,\u001b[0m \u001b[0mnorm\u001b[0m\u001b[0;34m=\u001b[0m\u001b[0mLogNorm\u001b[0m\u001b[0;34m(\u001b[0m\u001b[0;34m)\u001b[0m\u001b[0;34m,\u001b[0m\u001b[0mcmap\u001b[0m \u001b[0;34m=\u001b[0m \u001b[0;34m\"Blues\"\u001b[0m\u001b[0;34m)\u001b[0m\u001b[0;34m.\u001b[0m\u001b[0mset\u001b[0m\u001b[0;34m(\u001b[0m\u001b[0mxlabel\u001b[0m\u001b[0;34m=\u001b[0m\u001b[0;34m'Predicted Label'\u001b[0m\u001b[0;34m,\u001b[0m \u001b[0mylabel\u001b[0m\u001b[0;34m=\u001b[0m\u001b[0;34m'True Label'\u001b[0m\u001b[0;34m)\u001b[0m\u001b[0;34m;\u001b[0m\u001b[0;34m\u001b[0m\u001b[0;34m\u001b[0m\u001b[0m\n\u001b[1;32m      4\u001b[0m \u001b[0;34m\u001b[0m\u001b[0m\n\u001b[1;32m      5\u001b[0m \u001b[0mplt\u001b[0m\u001b[0;34m.\u001b[0m\u001b[0mshow\u001b[0m\u001b[0;34m(\u001b[0m\u001b[0;34m)\u001b[0m\u001b[0;34m\u001b[0m\u001b[0;34m\u001b[0m\u001b[0m\n",
            "\u001b[0;32m/usr/local/lib/python3.7/dist-packages/sklearn/metrics/_classification.py\u001b[0m in \u001b[0;36mconfusion_matrix\u001b[0;34m(y_true, y_pred, labels, sample_weight, normalize)\u001b[0m\n\u001b[1;32m    305\u001b[0m     \u001b[0;34m(\u001b[0m\u001b[0;36m0\u001b[0m\u001b[0;34m,\u001b[0m \u001b[0;36m2\u001b[0m\u001b[0;34m,\u001b[0m \u001b[0;36m1\u001b[0m\u001b[0;34m,\u001b[0m \u001b[0;36m1\u001b[0m\u001b[0;34m)\u001b[0m\u001b[0;34m\u001b[0m\u001b[0;34m\u001b[0m\u001b[0m\n\u001b[1;32m    306\u001b[0m     \"\"\"\n\u001b[0;32m--> 307\u001b[0;31m     \u001b[0my_type\u001b[0m\u001b[0;34m,\u001b[0m \u001b[0my_true\u001b[0m\u001b[0;34m,\u001b[0m \u001b[0my_pred\u001b[0m \u001b[0;34m=\u001b[0m \u001b[0m_check_targets\u001b[0m\u001b[0;34m(\u001b[0m\u001b[0my_true\u001b[0m\u001b[0;34m,\u001b[0m \u001b[0my_pred\u001b[0m\u001b[0;34m)\u001b[0m\u001b[0;34m\u001b[0m\u001b[0;34m\u001b[0m\u001b[0m\n\u001b[0m\u001b[1;32m    308\u001b[0m     \u001b[0;32mif\u001b[0m \u001b[0my_type\u001b[0m \u001b[0;32mnot\u001b[0m \u001b[0;32min\u001b[0m \u001b[0;34m(\u001b[0m\u001b[0;34m\"binary\"\u001b[0m\u001b[0;34m,\u001b[0m \u001b[0;34m\"multiclass\"\u001b[0m\u001b[0;34m)\u001b[0m\u001b[0;34m:\u001b[0m\u001b[0;34m\u001b[0m\u001b[0;34m\u001b[0m\u001b[0m\n\u001b[1;32m    309\u001b[0m         \u001b[0;32mraise\u001b[0m \u001b[0mValueError\u001b[0m\u001b[0;34m(\u001b[0m\u001b[0;34m\"%s is not supported\"\u001b[0m \u001b[0;34m%\u001b[0m \u001b[0my_type\u001b[0m\u001b[0;34m)\u001b[0m\u001b[0;34m\u001b[0m\u001b[0;34m\u001b[0m\u001b[0m\n",
            "\u001b[0;32m/usr/local/lib/python3.7/dist-packages/sklearn/metrics/_classification.py\u001b[0m in \u001b[0;36m_check_targets\u001b[0;34m(y_true, y_pred)\u001b[0m\n\u001b[1;32m     82\u001b[0m     \u001b[0my_pred\u001b[0m \u001b[0;34m:\u001b[0m \u001b[0marray\u001b[0m \u001b[0;32mor\u001b[0m \u001b[0mindicator\u001b[0m \u001b[0mmatrix\u001b[0m\u001b[0;34m\u001b[0m\u001b[0;34m\u001b[0m\u001b[0m\n\u001b[1;32m     83\u001b[0m     \"\"\"\n\u001b[0;32m---> 84\u001b[0;31m     \u001b[0mcheck_consistent_length\u001b[0m\u001b[0;34m(\u001b[0m\u001b[0my_true\u001b[0m\u001b[0;34m,\u001b[0m \u001b[0my_pred\u001b[0m\u001b[0;34m)\u001b[0m\u001b[0;34m\u001b[0m\u001b[0;34m\u001b[0m\u001b[0m\n\u001b[0m\u001b[1;32m     85\u001b[0m     \u001b[0mtype_true\u001b[0m \u001b[0;34m=\u001b[0m \u001b[0mtype_of_target\u001b[0m\u001b[0;34m(\u001b[0m\u001b[0my_true\u001b[0m\u001b[0;34m)\u001b[0m\u001b[0;34m\u001b[0m\u001b[0;34m\u001b[0m\u001b[0m\n\u001b[1;32m     86\u001b[0m     \u001b[0mtype_pred\u001b[0m \u001b[0;34m=\u001b[0m \u001b[0mtype_of_target\u001b[0m\u001b[0;34m(\u001b[0m\u001b[0my_pred\u001b[0m\u001b[0;34m)\u001b[0m\u001b[0;34m\u001b[0m\u001b[0;34m\u001b[0m\u001b[0m\n",
            "\u001b[0;32m/usr/local/lib/python3.7/dist-packages/sklearn/utils/validation.py\u001b[0m in \u001b[0;36mcheck_consistent_length\u001b[0;34m(*arrays)\u001b[0m\n\u001b[1;32m    327\u001b[0m     \"\"\"\n\u001b[1;32m    328\u001b[0m \u001b[0;34m\u001b[0m\u001b[0m\n\u001b[0;32m--> 329\u001b[0;31m     \u001b[0mlengths\u001b[0m \u001b[0;34m=\u001b[0m \u001b[0;34m[\u001b[0m\u001b[0m_num_samples\u001b[0m\u001b[0;34m(\u001b[0m\u001b[0mX\u001b[0m\u001b[0;34m)\u001b[0m \u001b[0;32mfor\u001b[0m \u001b[0mX\u001b[0m \u001b[0;32min\u001b[0m \u001b[0marrays\u001b[0m \u001b[0;32mif\u001b[0m \u001b[0mX\u001b[0m \u001b[0;32mis\u001b[0m \u001b[0;32mnot\u001b[0m \u001b[0;32mNone\u001b[0m\u001b[0;34m]\u001b[0m\u001b[0;34m\u001b[0m\u001b[0;34m\u001b[0m\u001b[0m\n\u001b[0m\u001b[1;32m    330\u001b[0m     \u001b[0muniques\u001b[0m \u001b[0;34m=\u001b[0m \u001b[0mnp\u001b[0m\u001b[0;34m.\u001b[0m\u001b[0munique\u001b[0m\u001b[0;34m(\u001b[0m\u001b[0mlengths\u001b[0m\u001b[0;34m)\u001b[0m\u001b[0;34m\u001b[0m\u001b[0;34m\u001b[0m\u001b[0m\n\u001b[1;32m    331\u001b[0m     \u001b[0;32mif\u001b[0m \u001b[0mlen\u001b[0m\u001b[0;34m(\u001b[0m\u001b[0muniques\u001b[0m\u001b[0;34m)\u001b[0m \u001b[0;34m>\u001b[0m \u001b[0;36m1\u001b[0m\u001b[0;34m:\u001b[0m\u001b[0;34m\u001b[0m\u001b[0;34m\u001b[0m\u001b[0m\n",
            "\u001b[0;32m/usr/local/lib/python3.7/dist-packages/sklearn/utils/validation.py\u001b[0m in \u001b[0;36m<listcomp>\u001b[0;34m(.0)\u001b[0m\n\u001b[1;32m    327\u001b[0m     \"\"\"\n\u001b[1;32m    328\u001b[0m \u001b[0;34m\u001b[0m\u001b[0m\n\u001b[0;32m--> 329\u001b[0;31m     \u001b[0mlengths\u001b[0m \u001b[0;34m=\u001b[0m \u001b[0;34m[\u001b[0m\u001b[0m_num_samples\u001b[0m\u001b[0;34m(\u001b[0m\u001b[0mX\u001b[0m\u001b[0;34m)\u001b[0m \u001b[0;32mfor\u001b[0m \u001b[0mX\u001b[0m \u001b[0;32min\u001b[0m \u001b[0marrays\u001b[0m \u001b[0;32mif\u001b[0m \u001b[0mX\u001b[0m \u001b[0;32mis\u001b[0m \u001b[0;32mnot\u001b[0m \u001b[0;32mNone\u001b[0m\u001b[0;34m]\u001b[0m\u001b[0;34m\u001b[0m\u001b[0;34m\u001b[0m\u001b[0m\n\u001b[0m\u001b[1;32m    330\u001b[0m     \u001b[0muniques\u001b[0m \u001b[0;34m=\u001b[0m \u001b[0mnp\u001b[0m\u001b[0;34m.\u001b[0m\u001b[0munique\u001b[0m\u001b[0;34m(\u001b[0m\u001b[0mlengths\u001b[0m\u001b[0;34m)\u001b[0m\u001b[0;34m\u001b[0m\u001b[0;34m\u001b[0m\u001b[0m\n\u001b[1;32m    331\u001b[0m     \u001b[0;32mif\u001b[0m \u001b[0mlen\u001b[0m\u001b[0;34m(\u001b[0m\u001b[0muniques\u001b[0m\u001b[0;34m)\u001b[0m \u001b[0;34m>\u001b[0m \u001b[0;36m1\u001b[0m\u001b[0;34m:\u001b[0m\u001b[0;34m\u001b[0m\u001b[0;34m\u001b[0m\u001b[0m\n",
            "\u001b[0;32m/usr/local/lib/python3.7/dist-packages/sklearn/utils/validation.py\u001b[0m in \u001b[0;36m_num_samples\u001b[0;34m(x)\u001b[0m\n\u001b[1;32m    263\u001b[0m             \u001b[0mx\u001b[0m \u001b[0;34m=\u001b[0m \u001b[0mnp\u001b[0m\u001b[0;34m.\u001b[0m\u001b[0masarray\u001b[0m\u001b[0;34m(\u001b[0m\u001b[0mx\u001b[0m\u001b[0;34m)\u001b[0m\u001b[0;34m\u001b[0m\u001b[0;34m\u001b[0m\u001b[0m\n\u001b[1;32m    264\u001b[0m         \u001b[0;32melse\u001b[0m\u001b[0;34m:\u001b[0m\u001b[0;34m\u001b[0m\u001b[0;34m\u001b[0m\u001b[0m\n\u001b[0;32m--> 265\u001b[0;31m             \u001b[0;32mraise\u001b[0m \u001b[0mTypeError\u001b[0m\u001b[0;34m(\u001b[0m\u001b[0mmessage\u001b[0m\u001b[0;34m)\u001b[0m\u001b[0;34m\u001b[0m\u001b[0;34m\u001b[0m\u001b[0m\n\u001b[0m\u001b[1;32m    266\u001b[0m \u001b[0;34m\u001b[0m\u001b[0m\n\u001b[1;32m    267\u001b[0m     \u001b[0;32mif\u001b[0m \u001b[0mhasattr\u001b[0m\u001b[0;34m(\u001b[0m\u001b[0mx\u001b[0m\u001b[0;34m,\u001b[0m \u001b[0;34m\"shape\"\u001b[0m\u001b[0;34m)\u001b[0m \u001b[0;32mand\u001b[0m \u001b[0mx\u001b[0m\u001b[0;34m.\u001b[0m\u001b[0mshape\u001b[0m \u001b[0;32mis\u001b[0m \u001b[0;32mnot\u001b[0m \u001b[0;32mNone\u001b[0m\u001b[0;34m:\u001b[0m\u001b[0;34m\u001b[0m\u001b[0;34m\u001b[0m\u001b[0m\n",
            "\u001b[0;31mTypeError\u001b[0m: Expected sequence or array-like, got <class 'int'>"
          ]
        }
      ]
    },
    {
      "cell_type": "code",
      "source": [],
      "metadata": {
        "id": "HhX_NiYS_GDJ"
      },
      "execution_count": null,
      "outputs": []
    },
    {
      "cell_type": "code",
      "source": [],
      "metadata": {
        "id": "SzjQY1e5QdeV"
      },
      "execution_count": null,
      "outputs": []
    },
    {
      "cell_type": "code",
      "source": [],
      "metadata": {
        "id": "xVbkGjbj_DVW"
      },
      "execution_count": null,
      "outputs": []
    }
  ]
}