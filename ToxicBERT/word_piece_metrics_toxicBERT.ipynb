{
  "nbformat": 4,
  "nbformat_minor": 0,
  "metadata": {
    "colab": {
      "provenance": []
    },
    "kernelspec": {
      "name": "python3",
      "display_name": "Python 3"
    },
    "language_info": {
      "name": "python"
    }
  },
  "cells": [
    {
      "cell_type": "code",
      "source": [
        "from google.colab import drive\n",
        "drive.mount('/drive')\n",
        "\n",
        "from csv import reader\n",
        "import pandas as pd\n",
        "import ast"
      ],
      "metadata": {
        "colab": {
          "base_uri": "https://localhost:8080/"
        },
        "id": "teR3JLFfOlSi",
        "outputId": "9d3a3809-315a-40f8-fef8-1b35066a0858"
      },
      "execution_count": null,
      "outputs": [
        {
          "output_type": "stream",
          "name": "stdout",
          "text": [
            "Mounted at /drive\n"
          ]
        }
      ]
    },
    {
      "cell_type": "code",
      "execution_count": null,
      "metadata": {
        "id": "-NJ4ECFH8t9k"
      },
      "outputs": [],
      "source": [
        "test = pd.read_csv('http://sybmo.com/thesis/test.csv')\n",
        "test.tokens = test.tokens.apply(ast.literal_eval)\n",
        "test.labels = test.labels.apply(ast.literal_eval)\n",
        "\n",
        "\n",
        "final_list_tokens = []\n",
        "final_list_labels = []\n",
        "\n",
        "with open(\"/drive/My Drive/thesis_sybren/BERTs/toxicBERT/toxicBERT-3epoch.csv\", \"r\") as read_obj:\n",
        "    csv_reader = reader(read_obj)\n",
        "    # iterate over each row in the csv using reader object\n",
        "    breaki = 0\n",
        "    for row in csv_reader:\n",
        "        # declare emtpy lists for every row\n",
        "        words = []\n",
        "        labels = []\n",
        "        # row variable is a list that represents a row in csv\n",
        "        for element in row:\n",
        "            # turn string representation of tuple into real tuple\n",
        "            element = ast.literal_eval(str(element))\n",
        "            # append every first element of tuple to words list\n",
        "            # if element[0] == \"\\u200d\":\n",
        "            #     print(row)\n",
        "            words.append(element[0])\n",
        "\n",
        "            # check if words start with bracket or double hashtag in order to only keep the right labels\n",
        "            if not (element[0].startswith(\"[C\") or element[0].startswith(\"##\") or element[0].startswith(\"[S\") ):\n",
        "                labels.append(element[1])\n",
        "\n",
        "        #remove \"tokens\" that start with bracket ([CLS] and [SEP] (but keep [UNK]))\n",
        "        text = ' '.join([x for x in words if not (x.startswith('[C') or x.startswith('[S'))])\n",
        "        clean_text = text.replace(' ##', '')\n",
        "\n",
        "\n",
        "        split_fine_text = clean_text.split()\n",
        "\n",
        "        # this piece of code finds emojis and removes them from the list\n",
        "        # and removes the labels at given index\n",
        "        for index, token in enumerate(split_fine_text):\n",
        "            encoded_token = token.encode('utf8')\n",
        "            if 'xf' in str(encoded_token):\n",
        "                split_fine_text.pop(index)\n",
        "                labels.pop(index)\n",
        "\n",
        "        final_list_tokens.append(split_fine_text)\n",
        "        final_list_labels.append([int(x[-1]) for x in labels])\n",
        "\n",
        "        # breaki+=1\n",
        "        # #if breaki > 10:\n",
        "        #  #   break\n",
        "\n",
        "\n",
        "# flatten the lists\n",
        "preds = [item for sublist in final_list_labels for item in sublist]\n",
        "gold = [item for sublist in test.labels.to_list() for item in sublist]\n",
        "tokens_gold = [item for sublist in test.tokens.to_list() for item in sublist]\n",
        "reconstructed_flat = [item for sublist in final_list_tokens for item in sublist]"
      ]
    },
    {
      "cell_type": "code",
      "source": [
        "print(len(tokens_gold),len(reconstructed_flat),len(gold),len(preds))\n",
        "\n",
        "for index,token in enumerate(tokens_gold):\n",
        "    if token == \"\\u200d\":\n",
        "        gold.pop(index)\n",
        "        tokens_gold.pop(index)\n",
        "        #preds.pop(index)\n",
        "\n",
        "print(len(tokens_gold),len(reconstructed_flat),len(gold),len(preds))"
      ],
      "metadata": {
        "colab": {
          "base_uri": "https://localhost:8080/"
        },
        "id": "EGES6SbG8A7S",
        "outputId": "35beb8cf-04c5-4d83-be60-f45dbeaa850e"
      },
      "execution_count": null,
      "outputs": [
        {
          "output_type": "stream",
          "name": "stdout",
          "text": [
            "14206 14205 14206 14205\n",
            "14205 14205 14205 14205\n"
          ]
        }
      ]
    },
    {
      "cell_type": "code",
      "source": [
        "from sklearn.metrics import confusion_matrix\n",
        "from sklearn.metrics import classification_report\n",
        "\n",
        "print(classification_report(gold, preds))"
      ],
      "metadata": {
        "id": "o1rAmsj_9I3Y",
        "colab": {
          "base_uri": "https://localhost:8080/"
        },
        "outputId": "fef03d96-ccdc-48f5-e2ed-4814bddfeb53"
      },
      "execution_count": null,
      "outputs": [
        {
          "output_type": "stream",
          "name": "stdout",
          "text": [
            "              precision    recall  f1-score   support\n",
            "\n",
            "           0       0.97      0.96      0.97     12493\n",
            "           1       0.66      0.66      0.66      1192\n",
            "           2       0.61      0.70      0.65       520\n",
            "\n",
            "    accuracy                           0.93     14205\n",
            "   macro avg       0.75      0.78      0.76     14205\n",
            "weighted avg       0.93      0.93      0.93     14205\n",
            "\n"
          ]
        }
      ]
    },
    {
      "cell_type": "code",
      "source": [
        "print(classification_report(gold, preds))"
      ],
      "metadata": {
        "colab": {
          "base_uri": "https://localhost:8080/"
        },
        "id": "_ZQ350AVPRvI",
        "outputId": "9f4fa1f3-a0af-4933-c5e4-3500fdb42533"
      },
      "execution_count": null,
      "outputs": [
        {
          "output_type": "stream",
          "name": "stdout",
          "text": [
            "              precision    recall  f1-score   support\n",
            "\n",
            "           0       0.97      0.96      0.97     12493\n",
            "           1       0.66      0.66      0.66      1192\n",
            "           2       0.61      0.70      0.65       520\n",
            "\n",
            "    accuracy                           0.93     14205\n",
            "   macro avg       0.75      0.78      0.76     14205\n",
            "weighted avg       0.93      0.93      0.93     14205\n",
            "\n"
          ]
        }
      ]
    },
    {
      "cell_type": "code",
      "source": [
        "report = classification_report(gold, preds, output_dict=True)\n",
        "df = pd.DataFrame(report).transpose()\n",
        "print(df)"
      ],
      "metadata": {
        "colab": {
          "base_uri": "https://localhost:8080/"
        },
        "id": "sZISJtXgPwWL",
        "outputId": "ce409449-2a60-4bd0-d289-05dadd925505"
      },
      "execution_count": null,
      "outputs": [
        {
          "output_type": "stream",
          "name": "stdout",
          "text": [
            "              precision    recall  f1-score       support\n",
            "0              0.968687  0.963259  0.965966  12493.000000\n",
            "1              0.664701  0.661913  0.663304   1192.000000\n",
            "2              0.611765  0.700000  0.652915    520.000000\n",
            "accuracy       0.928335  0.928335  0.928335      0.928335\n",
            "macro avg      0.748384  0.775057  0.760728  14205.000000\n",
            "weighted avg   0.930113  0.928335  0.929108  14205.000000\n"
          ]
        }
      ]
    },
    {
      "cell_type": "code",
      "source": [
        "from sklearn import metrics\n",
        "import matplotlib.pyplot as plt\n",
        "import seaborn as sns; sns.set_theme(style='white')\n",
        "from matplotlib.colors import LogNorm, Normalize\n",
        "cm = metrics.confusion_matrix(gold, preds, labels=[0,1,2])\n",
        "sns.heatmap(cm, cmap='Greys',annot=True,fmt='d',square=True, norm=LogNorm(), yticklabels = ['O','B','I'], xticklabels=['O','B','I']);\n",
        "\n",
        "plt.xlabel('Predicted')\n",
        "plt.ylabel('True')\n",
        "\n",
        "plt.title(\"ToxicBERT\", fontsize =20)\n",
        "\n",
        "plt.savefig('toxicBert_CM_v3.pdf',dpi=200)\n",
        "plt.show()"
      ],
      "metadata": {
        "colab": {
          "base_uri": "https://localhost:8080/",
          "height": 488
        },
        "id": "aByC1ebK8M3U",
        "outputId": "9d813df9-cedf-4f29-e614-56c51c50f88a"
      },
      "execution_count": null,
      "outputs": [
        {
          "output_type": "display_data",
          "data": {
            "text/plain": [
              "<Figure size 640x480 with 2 Axes>"
            ],
            "image/png": "[encoded data removed]"
          },
          "metadata": {}
        }
      ]
    },
    {
      "cell_type": "code",
      "source": [
        "cm"
      ],
      "metadata": {
        "colab": {
          "base_uri": "https://localhost:8080/"
        },
        "id": "d_Evk-st89M4",
        "outputId": "52a7b02d-1f54-4d0b-a388-294176d037ad"
      },
      "execution_count": null,
      "outputs": [
        {
          "output_type": "execute_result",
          "data": {
            "text/plain": [
              "array([[12034,   329,   130],\n",
              "       [  302,   789,   101],\n",
              "       [   87,    69,   364]])"
            ]
          },
          "metadata": {},
          "execution_count": 11
        }
      ]
    },
    {
      "cell_type": "code",
      "source": [
        "from sklearn.metrics import confusion_matrix\n",
        "from sklearn.metrics import classification_report\n",
        "\n",
        "report = classification_report(gold, preds, output_dict=True)\n",
        "df = pd.DataFrame(report).transpose()\n",
        "display(df)\n",
        "df.to_latex()\n"
      ],
      "metadata": {
        "id": "8Lo7eqjdQtRq"
      },
      "execution_count": null,
      "outputs": []
    },
    {
      "cell_type": "code",
      "source": [
        "zipped_list_labels = []\n",
        "\n",
        "for sent_index,sentence in enumerate(final_list_tokens):\n",
        "    sent_list = []\n",
        "    for token_index, token in enumerate(sentence):\n",
        "        sent_list.append((token, final_list_labels[sent_index][token_index]))\n",
        "    zipped_list_labels.append(sent_list)\n",
        "\n",
        "import csv\n",
        "with open(\"/drive/My Drive/thesis_sybren/BERTs/toxicBERT/reconstructed_preds_toxicBERT.csv\", \"w\") as f:\n",
        "    writer = csv.writer(f)\n",
        "    writer.writerows(zipped_list_labels)"
      ],
      "metadata": {
        "id": "k1stlmPuTjDL"
      },
      "execution_count": null,
      "outputs": []
    },
    {
      "cell_type": "code",
      "source": [
        "# for index, token in enumerate(reconstructed_flat):\n",
        "#     if token != tokens_gold[index]:\n",
        "#         print(index,tokens_gold[index], token, gold[index], preds[index])"
      ],
      "metadata": {
        "id": "SHX1JbYVRAKN"
      },
      "execution_count": null,
      "outputs": []
    },
    {
      "cell_type": "code",
      "source": [],
      "metadata": {
        "id": "GvBIT6jQRkms"
      },
      "execution_count": null,
      "outputs": []
    },
    {
      "cell_type": "code",
      "source": [
        "# flat_aligned_tokens = [item for sublist in final_list_tokens for item in sublist]\n",
        "# len(pd.Series(flat_aligned_tokens)[pd.Series(flat_aligned_tokens)=='[UNK]'])"
      ],
      "metadata": {
        "colab": {
          "base_uri": "https://localhost:8080/"
        },
        "id": "PLC2AH3SQ3HW",
        "outputId": "7456705e-2ead-460c-e8e4-f987377867d5"
      },
      "execution_count": null,
      "outputs": [
        {
          "output_type": "execute_result",
          "data": {
            "text/plain": [
              "151"
            ]
          },
          "metadata": {},
          "execution_count": 53
        }
      ]
    }
  ]
}