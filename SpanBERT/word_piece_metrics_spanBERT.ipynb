{
  "nbformat": 4,
  "nbformat_minor": 0,
  "metadata": {
    "colab": {
      "provenance": []
    },
    "kernelspec": {
      "name": "python3",
      "display_name": "Python 3"
    },
    "language_info": {
      "name": "python"
    }
  },
  "cells": [
    {
      "cell_type": "code",
      "source": [
        "from google.colab import drive\n",
        "drive.mount('/drive')\n",
        "\n",
        "from csv import reader\n",
        "import pandas as pd\n",
        "import ast"
      ],
      "metadata": {
        "colab": {
          "base_uri": "https://localhost:8080/"
        },
        "id": "teR3JLFfOlSi",
        "outputId": "9aa28731-7a65-4cf1-f75b-5abd0ba4859c"
      },
      "execution_count": null,
      "outputs": [
        {
          "output_type": "stream",
          "name": "stdout",
          "text": [
            "Mounted at /drive\n"
          ]
        }
      ]
    },
    {
      "cell_type": "code",
      "execution_count": null,
      "metadata": {
        "id": "-NJ4ECFH8t9k"
      },
      "outputs": [],
      "source": [
        "test = pd.read_csv('http://sybmo.com/thesis/test.csv')\n",
        "test.tokens = test.tokens.apply(ast.literal_eval)\n",
        "test.labels = test.labels.apply(ast.literal_eval)\n",
        "\n",
        "\n",
        "final_list_tokens = []\n",
        "final_list_labels = []\n",
        "\n",
        "with open(\"/drive/My Drive/thesis_sybren/BERTs/spanBERT/spanBERT-addedvoca.csv\", \"r\") as read_obj:\n",
        "    csv_reader = reader(read_obj)\n",
        "    # iterate over each row in the csv using reader object\n",
        "    breaki = 0\n",
        "    for row in csv_reader:\n",
        "        # declare emtpy lists for every row\n",
        "        words = []\n",
        "        labels = []\n",
        "        # row variable is a list that represents a row in csv\n",
        "        for element in row:\n",
        "            # turn string representation of tuple into real tuple\n",
        "            element = ast.literal_eval(str(element))\n",
        "            # append every first element of tuple to words list\n",
        "            # if element[0] == \"\\u200d\":\n",
        "            #     print(row)\n",
        "            words.append(element[0])\n",
        "\n",
        "            # check if words start with bracket or double hashtag in order to only keep the right labels\n",
        "            if not (element[0].startswith(\"[C\") or element[0].startswith(\"##\") or element[0].startswith(\"[S\") ):\n",
        "                labels.append(element[1])\n",
        "\n",
        "        #remove \"tokens\" that start with bracket ([CLS] and [SEP] (but keep [UNK]))\n",
        "        text = ' '.join([x for x in words if not (x.startswith('[C') or x.startswith('[S'))])\n",
        "        clean_text = text.replace(' ##', '')\n",
        "\n",
        "\n",
        "        split_fine_text = clean_text.split()\n",
        "\n",
        "        # this piece of code finds emojis and removes them from the list\n",
        "        # and removes the labels at given index\n",
        "        for index, token in enumerate(split_fine_text):\n",
        "            encoded_token = token.encode('utf8')\n",
        "            if 'xf' in str(encoded_token):\n",
        "                split_fine_text.pop(index)\n",
        "                labels.pop(index)\n",
        "\n",
        "        final_list_tokens.append(split_fine_text)\n",
        "        final_list_labels.append([int(x[-1]) for x in labels])\n",
        "\n",
        "        # breaki+=1\n",
        "        # #if breaki > 10:\n",
        "        #  #   break\n",
        "\n",
        "\n",
        "# flatten the lists\n",
        "preds = [item for sublist in final_list_labels for item in sublist]\n",
        "gold = [item for sublist in test.labels.to_list() for item in sublist]\n",
        "tokens_gold = [item for sublist in test.tokens.to_list() for item in sublist]\n",
        "reconstructed_flat = [item for sublist in final_list_tokens for item in sublist]"
      ]
    },
    {
      "cell_type": "code",
      "source": [
        "for index,token in enumerate(tokens_gold):\n",
        "    if token == \"\\u200d\":\n",
        "        gold.pop(index)\n",
        "        tokens_gold.pop(index)\n",
        "        #preds.pop(index)\n",
        "\n",
        "print(len(tokens_gold),len(reconstructed_flat),len(gold),len(preds))"
      ],
      "metadata": {
        "id": "o1rAmsj_9I3Y",
        "colab": {
          "base_uri": "https://localhost:8080/"
        },
        "outputId": "56c2e43a-e046-4be7-fba0-4a1c62191864"
      },
      "execution_count": null,
      "outputs": [
        {
          "output_type": "stream",
          "name": "stdout",
          "text": [
            "14205 14205 14205 14205\n"
          ]
        }
      ]
    },
    {
      "cell_type": "code",
      "source": [
        "from sklearn.metrics import confusion_matrix\n",
        "from sklearn.metrics import classification_report\n",
        "\n",
        "print(classification_report(gold, preds))"
      ],
      "metadata": {
        "colab": {
          "base_uri": "https://localhost:8080/"
        },
        "id": "1DcifWqQrswn",
        "outputId": "592667d9-6bf9-4f10-d954-4e2151f1878f"
      },
      "execution_count": null,
      "outputs": [
        {
          "output_type": "stream",
          "name": "stdout",
          "text": [
            "              precision    recall  f1-score   support\n",
            "\n",
            "           0       0.97      0.97      0.97     12493\n",
            "           1       0.70      0.67      0.68      1192\n",
            "           2       0.62      0.69      0.65       520\n",
            "\n",
            "    accuracy                           0.93     14205\n",
            "   macro avg       0.76      0.77      0.77     14205\n",
            "weighted avg       0.93      0.93      0.93     14205\n",
            "\n"
          ]
        }
      ]
    },
    {
      "cell_type": "code",
      "source": [
        "from sklearn import metrics\n",
        "import matplotlib.pyplot as plt\n",
        "import seaborn as sns; sns.set_theme(style='white')\n",
        "from matplotlib.colors import LogNorm, Normalize\n",
        "cm = metrics.confusion_matrix(gold, preds, labels=[0,1,2])\n",
        "sns.heatmap(cm, cmap='Greys',annot=True,fmt='d',square=True, norm=LogNorm(), yticklabels = ['O','B','I'], xticklabels=['O','B','I']);\n",
        "\n",
        "plt.xlabel('Predicted')\n",
        "plt.ylabel('True')\n",
        "\n",
        "plt.title(\"SpanBERT\", fontsize =20)\n",
        "plt.savefig('SB-v3.pdf',dpi=200)\n",
        "plt.show()"
      ],
      "metadata": {
        "colab": {
          "base_uri": "https://localhost:8080/",
          "height": 488
        },
        "id": "Ja2UyZCFZtX8",
        "outputId": "aa74156a-e603-4a4c-c2b0-b06427efe5ce"
      },
      "execution_count": null,
      "outputs": [
        {
          "output_type": "display_data",
          "data": {
            "text/plain": [
              "<Figure size 640x480 with 2 Axes>"
            ],
            "image/png": "[encoded data removed]"
          },
          "metadata": {}
        }
      ]
    },
    {
      "cell_type": "code",
      "source": [
        "from sklearn import metrics\n",
        "import matplotlib.pyplot as plt\n",
        "import seaborn as sns; sns.set_theme(style='white')\n",
        "from matplotlib.colors import LogNorm, Normalize\n",
        "\n",
        "cm = metrics.confusion_matrix(gold, preds, labels=[0,1,2])\n",
        "plt.title(\"SpanBERT\", fontsize =20)\n",
        "plt.xlabel('Predicted')\n",
        "plt.ylabel('True')\n",
        "sns.heatmap(cm, cmap='Greys',annot=True,fmt='d',square=True, norm=LogNorm(), yticklabels = ['O','B','I'], xticklabels=['O','B','I']);\n",
        "plt.savefig('spanbertv2.pdf',dpi=50)\n",
        "plt.show()"
      ],
      "metadata": {
        "colab": {
          "base_uri": "https://localhost:8080/",
          "height": 465
        },
        "id": "lTMxdQnz4_nK",
        "outputId": "ff355c46-cf56-48b9-80a0-b1a762892019"
      },
      "execution_count": null,
      "outputs": [
        {
          "output_type": "display_data",
          "data": {
            "text/plain": [
              "<Figure size 640x480 with 2 Axes>"
            ],
            "image/png": "[encoded data removed]"
          },
          "metadata": {}
        }
      ]
    },
    {
      "cell_type": "code",
      "source": [
        "cm"
      ],
      "metadata": {
        "id": "h1lGsJap9hmY",
        "outputId": "093eae75-1874-4cb6-fa29-23dd7cf47ba0",
        "colab": {
          "base_uri": "https://localhost:8080/"
        }
      },
      "execution_count": null,
      "outputs": [
        {
          "output_type": "execute_result",
          "data": {
            "text/plain": [
              "array([[12103,   264,   126],\n",
              "       [  309,   793,    90],\n",
              "       [   83,    80,   357]])"
            ]
          },
          "metadata": {},
          "execution_count": 11
        }
      ]
    },
    {
      "cell_type": "code",
      "source": [
        "from sklearn.metrics import confusion_matrix\n",
        "from sklearn.metrics import classification_report\n",
        "\n",
        "report = classification_report(gold, preds, output_dict=True)\n",
        "df = pd.DataFrame(report).transpose()\n",
        "display(df)\n",
        "df.to_latex()\n"
      ],
      "metadata": {
        "colab": {
          "base_uri": "https://localhost:8080/",
          "height": 432
        },
        "id": "P-rHffTuQIUT",
        "outputId": "af9ac10b-db1f-4444-b717-c5105ece90e4"
      },
      "execution_count": null,
      "outputs": [
        {
          "output_type": "display_data",
          "data": {
            "text/plain": [
              "              precision    recall  f1-score       support\n",
              "0              0.968627  0.968783  0.968705  12493.000000\n",
              "1              0.697449  0.665268  0.680979   1192.000000\n",
              "2              0.623037  0.686538  0.653248    520.000000\n",
              "accuracy       0.932981  0.932981  0.932981      0.932981\n",
              "macro avg      0.763038  0.773530  0.767644  14205.000000\n",
              "weighted avg   0.933221  0.932981  0.933013  14205.000000"
            ],
            "text/html": [
              "\n",
              "  <div id=\"df-be6f962d-0f72-4b33-a067-8afe2cd42781\">\n",
              "    <div class=\"colab-df-container\">\n",
              "      <div>\n",
              "<style scoped>\n",
              "    .dataframe tbody tr th:only-of-type {\n",
              "        vertical-align: middle;\n",
              "    }\n",
              "\n",
              "    .dataframe tbody tr th {\n",
              "        vertical-align: top;\n",
              "    }\n",
              "\n",
              "    .dataframe thead th {\n",
              "        text-align: right;\n",
              "    }\n",
              "</style>\n",
              "<table border=\"1\" class=\"dataframe\">\n",
              "  <thead>\n",
              "    <tr style=\"text-align: right;\">\n",
              "      <th></th>\n",
              "      <th>precision</th>\n",
              "      <th>recall</th>\n",
              "      <th>f1-score</th>\n",
              "      <th>support</th>\n",
              "    </tr>\n",
              "  </thead>\n",
              "  <tbody>\n",
              "    <tr>\n",
              "      <th>0</th>\n",
              "      <td>0.968627</td>\n",
              "      <td>0.968783</td>\n",
              "      <td>0.968705</td>\n",
              "      <td>12493.000000</td>\n",
              "    </tr>\n",
              "    <tr>\n",
              "      <th>1</th>\n",
              "      <td>0.697449</td>\n",
              "      <td>0.665268</td>\n",
              "      <td>0.680979</td>\n",
              "      <td>1192.000000</td>\n",
              "    </tr>\n",
              "    <tr>\n",
              "      <th>2</th>\n",
              "      <td>0.623037</td>\n",
              "      <td>0.686538</td>\n",
              "      <td>0.653248</td>\n",
              "      <td>520.000000</td>\n",
              "    </tr>\n",
              "    <tr>\n",
              "      <th>accuracy</th>\n",
              "      <td>0.932981</td>\n",
              "      <td>0.932981</td>\n",
              "      <td>0.932981</td>\n",
              "      <td>0.932981</td>\n",
              "    </tr>\n",
              "    <tr>\n",
              "      <th>macro avg</th>\n",
              "      <td>0.763038</td>\n",
              "      <td>0.773530</td>\n",
              "      <td>0.767644</td>\n",
              "      <td>14205.000000</td>\n",
              "    </tr>\n",
              "    <tr>\n",
              "      <th>weighted avg</th>\n",
              "      <td>0.933221</td>\n",
              "      <td>0.932981</td>\n",
              "      <td>0.933013</td>\n",
              "      <td>14205.000000</td>\n",
              "    </tr>\n",
              "  </tbody>\n",
              "</table>\n",
              "</div>\n",
              "      <button class=\"colab-df-convert\" onclick=\"convertToInteractive('df-be6f962d-0f72-4b33-a067-8afe2cd42781')\"\n",
              "              title=\"Convert this dataframe to an interactive table.\"\n",
              "              style=\"display:none;\">\n",
              "        \n",
              "  <svg xmlns=\"http://www.w3.org/2000/svg\" height=\"24px\"viewBox=\"0 0 24 24\"\n",
              "       width=\"24px\">\n",
              "    <path d=\"M0 0h24v24H0V0z\" fill=\"none\"/>\n",
              "    <path d=\"M18.56 5.44l.94 2.06.94-2.06 2.06-.94-2.06-.94-.94-2.06-.94 2.06-2.06.94zm-11 1L8.5 8.5l.94-2.06 2.06-.94-2.06-.94L8.5 2.5l-.94 2.06-2.06.94zm10 10l.94 2.06.94-2.06 2.06-.94-2.06-.94-.94-2.06-.94 2.06-2.06.94z\"/><path d=\"M17.41 7.96l-1.37-1.37c-.4-.4-.92-.59-1.43-.59-.52 0-1.04.2-1.43.59L10.3 9.45l-7.72 7.72c-.78.78-.78 2.05 0 2.83L4 21.41c.39.39.9.59 1.41.59.51 0 1.02-.2 1.41-.59l7.78-7.78 2.81-2.81c.8-.78.8-2.07 0-2.86zM5.41 20L4 18.59l7.72-7.72 1.47 1.35L5.41 20z\"/>\n",
              "  </svg>\n",
              "      </button>\n",
              "      \n",
              "  <style>\n",
              "    .colab-df-container {\n",
              "      display:flex;\n",
              "      flex-wrap:wrap;\n",
              "      gap: 12px;\n",
              "    }\n",
              "\n",
              "    .colab-df-convert {\n",
              "      background-color: #E8F0FE;\n",
              "      border: none;\n",
              "      border-radius: 50%;\n",
              "      cursor: pointer;\n",
              "      display: none;\n",
              "      fill: #1967D2;\n",
              "      height: 32px;\n",
              "      padding: 0 0 0 0;\n",
              "      width: 32px;\n",
              "    }\n",
              "\n",
              "    .colab-df-convert:hover {\n",
              "      background-color: #E2EBFA;\n",
              "      box-shadow: 0px 1px 2px rgba(60, 64, 67, 0.3), 0px 1px 3px 1px rgba(60, 64, 67, 0.15);\n",
              "      fill: #174EA6;\n",
              "    }\n",
              "\n",
              "    [theme=dark] .colab-df-convert {\n",
              "      background-color: #3B4455;\n",
              "      fill: #D2E3FC;\n",
              "    }\n",
              "\n",
              "    [theme=dark] .colab-df-convert:hover {\n",
              "      background-color: #434B5C;\n",
              "      box-shadow: 0px 1px 3px 1px rgba(0, 0, 0, 0.15);\n",
              "      filter: drop-shadow(0px 1px 2px rgba(0, 0, 0, 0.3));\n",
              "      fill: #FFFFFF;\n",
              "    }\n",
              "  </style>\n",
              "\n",
              "      <script>\n",
              "        const buttonEl =\n",
              "          document.querySelector('#df-be6f962d-0f72-4b33-a067-8afe2cd42781 button.colab-df-convert');\n",
              "        buttonEl.style.display =\n",
              "          google.colab.kernel.accessAllowed ? 'block' : 'none';\n",
              "\n",
              "        async function convertToInteractive(key) {\n",
              "          const element = document.querySelector('#df-be6f962d-0f72-4b33-a067-8afe2cd42781');\n",
              "          const dataTable =\n",
              "            await google.colab.kernel.invokeFunction('convertToInteractive',\n",
              "                                                     [key], {});\n",
              "          if (!dataTable) return;\n",
              "\n",
              "          const docLinkHtml = 'Like what you see? Visit the ' +\n",
              "            '<a target=\"_blank\" href=https://colab.research.google.com/notebooks/data_table.ipynb>data table notebook</a>'\n",
              "            + ' to learn more about interactive tables.';\n",
              "          element.innerHTML = '';\n",
              "          dataTable['output_type'] = 'display_data';\n",
              "          await google.colab.output.renderOutput(dataTable, element);\n",
              "          const docLink = document.createElement('div');\n",
              "          docLink.innerHTML = docLinkHtml;\n",
              "          element.appendChild(docLink);\n",
              "        }\n",
              "      </script>\n",
              "    </div>\n",
              "  </div>\n",
              "  "
            ]
          },
          "metadata": {}
        },
        {
          "output_type": "stream",
          "name": "stderr",
          "text": [
            "<ipython-input-7-bed801b4e001>:7: FutureWarning: In future versions `DataFrame.to_latex` is expected to utilise the base implementation of `Styler.to_latex` for formatting and rendering. The arguments signature may therefore change. It is recommended instead to use `DataFrame.style.to_latex` which also contains additional functionality.\n",
            "  df.to_latex()\n"
          ]
        },
        {
          "output_type": "execute_result",
          "data": {
            "text/plain": [
              "'\\\\begin{tabular}{lrrrr}\\n\\\\toprule\\n{} &  precision &    recall &  f1-score &       support \\\\\\\\\\n\\\\midrule\\n0            &   0.968627 &  0.968783 &  0.968705 &  12493.000000 \\\\\\\\\\n1            &   0.697449 &  0.665268 &  0.680979 &   1192.000000 \\\\\\\\\\n2            &   0.623037 &  0.686538 &  0.653248 &    520.000000 \\\\\\\\\\naccuracy     &   0.932981 &  0.932981 &  0.932981 &      0.932981 \\\\\\\\\\nmacro avg    &   0.763038 &  0.773530 &  0.767644 &  14205.000000 \\\\\\\\\\nweighted avg &   0.933221 &  0.932981 &  0.933013 &  14205.000000 \\\\\\\\\\n\\\\bottomrule\\n\\\\end{tabular}\\n'"
            ],
            "application/vnd.google.colaboratory.intrinsic+json": {
              "type": "string"
            }
          },
          "metadata": {},
          "execution_count": 7
        }
      ]
    },
    {
      "cell_type": "code",
      "source": [
        "zipped_list_labels = []\n",
        "\n",
        "for sent_index,sentence in enumerate(final_list_tokens):\n",
        "    sent_list = []\n",
        "    for token_index, token in enumerate(sentence):\n",
        "        sent_list.append((token, final_list_labels[sent_index][token_index]))\n",
        "    zipped_list_labels.append(sent_list)\n",
        "\n",
        "# #!pip install StringIO\n",
        "# # from io import StringIO\n",
        "# # s = StringIO.StringIO(text)\n",
        "# with open('fileName.csv', 'w') as f:\n",
        "#     for line in zipped_list_labels:\n",
        "#         f.write(line)\n",
        "\n",
        "import csv\n",
        "with open(\"/drive/My Drive/thesis_sybren/BERTs/spanBERT/reconstructed_preds_spanBERT.csv\", \"w\") as f:\n",
        "    writer = csv.writer(f)\n",
        "    writer.writerows(zipped_list_labels)"
      ],
      "metadata": {
        "id": "-uKwltK5XCYk"
      },
      "execution_count": null,
      "outputs": []
    },
    {
      "cell_type": "code",
      "source": [
        "for index, token in enumerate(reconstructed_flat):\n",
        "    if token != tokens_gold[index]:\n",
        "        print(index,tokens_gold[index], token, gold[index], preds[index])"
      ],
      "metadata": {
        "colab": {
          "base_uri": "https://localhost:8080/"
        },
        "id": "_1u17VLEpD0s",
        "outputId": "5e02ed96-ad37-48d2-dd40-f9181c206a8e"
      },
      "execution_count": null,
      "outputs": [
        {
          "output_type": "stream",
          "name": "stdout",
          "text": [
            "149 😂 [UNK] 0 0\n",
            "1038 😂 [UNK] 0 0\n",
            "1399 🤮 [UNK] 0 0\n",
            "1400 🤮 [UNK] 0 0\n",
            "1401 🤮 [UNK] 0 0\n",
            "1402 🤮 [UNK] 0 0\n",
            "1403 🤮 [UNK] 0 0\n",
            "1404 🤮 [UNK] 0 0\n",
            "1405 🤮 [UNK] 0 0\n",
            "1406 🤮 [UNK] 0 0\n",
            "1407 🤮 [UNK] 0 0\n",
            "1408 🤮 [UNK] 0 0\n",
            "1409 🤮 [UNK] 0 0\n",
            "1410 🤮 [UNK] 0 0\n",
            "1411 🤮 [UNK] 0 0\n",
            "1412 🤮 [UNK] 0 0\n",
            "1413 🤮 [UNK] 0 0\n",
            "1414 🤮 [UNK] 0 0\n",
            "1415 🤮 [UNK] 0 0\n",
            "1416 🤮 [UNK] 0 0\n",
            "1417 🤮 [UNK] 0 0\n",
            "1418 🤮 [UNK] 0 0\n",
            "1419 🤮 [UNK] 0 0\n",
            "1420 🤮 [UNK] 0 0\n",
            "1421 🤮 [UNK] 0 0\n",
            "1422 🤮 [UNK] 0 0\n",
            "1423 🤮 [UNK] 0 0\n",
            "1424 🤮 [UNK] 0 0\n",
            "1425 🤮 [UNK] 0 0\n",
            "1426 🤮 [UNK] 0 0\n",
            "1427 🤮 [UNK] 0 0\n",
            "1428 🤮 [UNK] 0 0\n",
            "1429 🤮 [UNK] 0 0\n",
            "1430 🤮 [UNK] 0 0\n",
            "1613 😹 [UNK] 0 0\n",
            "1691 😍 [UNK] 0 0\n",
            "2055 😇 [UNK] 0 0\n",
            "2065 🙄 [UNK] 0 0\n",
            "2550 😂 [UNK] 0 0\n",
            "2551 😃 [UNK] 0 0\n",
            "2552 😃 [UNK] 0 0\n",
            "2610 ❤ [UNK] 0 0\n",
            "2616 💔 [UNK] 0 0\n",
            "2791 🤧 [UNK] 0 0\n",
            "3032 🤗 [UNK] 0 0\n",
            "3041 🤷 [UNK] 0 0\n",
            "3042 🏽 [UNK] 0 0\n",
            "3043 ♀️ [UNK] 0 0\n",
            "3209 🖕 [UNK] 0 0\n",
            "3210 🏽 [UNK] 0 0\n",
            "3211 🖕 [UNK] 0 0\n",
            "3212 🏽 [UNK] 0 0\n",
            "3213 🖕 [UNK] 0 0\n",
            "3214 🏽 [UNK] 0 0\n",
            "3251 èire eire 0 0\n",
            "3851 🤣 [UNK] 0 0\n",
            "3852 🤣 [UNK] 0 0\n",
            "3853 🤣 [UNK] 0 0\n",
            "3854 🤣 [UNK] 0 0\n",
            "3855 🤣 [UNK] 0 0\n",
            "3910 ‼️ [UNK] 0 0\n",
            "4005 😊 [UNK] 0 0\n",
            "4006 😘 [UNK] 0 0\n",
            "4316 😂 [UNK] 0 0\n",
            "4597 🤡 [UNK] 0 0\n",
            "4655 😁 [UNK] 0 0\n",
            "4656 😁 [UNK] 0 0\n",
            "4657 😁 [UNK] 0 0\n",
            "4658 🖕 [UNK] 0 0\n",
            "4659 🏽 [UNK] 0 0\n",
            "5169 🤐 [UNK] 0 0\n",
            "5209 🙄 [UNK] 0 0\n",
            "5329 😂 [UNK] 0 0\n",
            "5330 😂 [UNK] 0 0\n",
            "5331 😂 [UNK] 0 0\n",
            "5332 😂 [UNK] 0 0\n",
            "5333 😂 [UNK] 0 0\n",
            "5334 😂 [UNK] 0 0\n",
            "5335 😂 [UNK] 0 0\n",
            "5336 😂 [UNK] 0 0\n",
            "5337 😂 [UNK] 0 0\n",
            "5338 😂 [UNK] 0 0\n",
            "5339 😂 [UNK] 0 0\n",
            "5340 😂 [UNK] 0 0\n",
            "5341 😂 [UNK] 0 0\n",
            "5342 😂 [UNK] 0 0\n",
            "5343 😂 [UNK] 0 0\n",
            "5344 😂 [UNK] 0 0\n",
            "5345 😂 [UNK] 0 0\n",
            "5346 😂 [UNK] 0 0\n",
            "5352 🤔 [UNK] 0 0\n",
            "5361 😄 [UNK] 0 0\n",
            "5426 😂 [UNK] 0 0\n",
            "5427 😂 [UNK] 0 0\n",
            "5504 😂 [UNK] 0 0\n",
            "5867 😂 [UNK] 0 0\n",
            "5868 😭 [UNK] 0 0\n",
            "5869 😂 [UNK] 0 0\n",
            "5870 😭 [UNK] 0 0\n",
            "5871 😂 [UNK] 0 0\n",
            "6698 🤣 [UNK] 0 0\n",
            "6878 💯 [UNK] 0 0\n",
            "7818 😍 [UNK] 0 0\n",
            "7823 😂 [UNK] 0 0\n",
            "7834 😂 [UNK] 0 0\n",
            "7992 👌 [UNK] 0 0\n",
            "8453 😂 [UNK] 0 0\n",
            "9494 😉 [UNK] 0 0\n",
            "9874 🤣 [UNK] 0 0\n",
            "9883 🤠 [UNK] 0 0\n",
            "10299 👍 [UNK] 0 0\n",
            "10300 👏 [UNK] 0 0\n",
            "10301 👏 [UNK] 0 0\n",
            "10302 👏 [UNK] 0 0\n",
            "10303 👏 [UNK] 0 0\n",
            "10675 👎 [UNK] 0 0\n",
            "10676 🙅 [UNK] 0 0\n",
            "10677 ♂ [UNK] 0 0\n",
            "10678 💯 [UNK] 0 0\n",
            "10870 😹 [UNK] 0 0\n",
            "10871 😹 [UNK] 0 0\n",
            "10872 😹 [UNK] 0 0\n",
            "10879 ™ [UNK] 0 0\n",
            "10898 🙄 [UNK] 0 0\n",
            "10978 🤣 [UNK] 0 0\n",
            "11730 🖕 [UNK] 0 0\n",
            "11731 🏻 [UNK] 0 0\n",
            "11732 🖕 [UNK] 0 0\n",
            "11733 🏻 [UNK] 0 0\n",
            "11734 🖕 [UNK] 0 0\n",
            "11735 🏻 [UNK] 0 0\n",
            "11736 🖕 [UNK] 0 0\n",
            "11737 🏻 [UNK] 0 0\n",
            "11738 🖕 [UNK] 0 0\n",
            "11739 🏻 [UNK] 0 0\n",
            "11740 🖕 [UNK] 0 0\n",
            "11741 🏻 [UNK] 0 0\n",
            "12276 😂 [UNK] 0 0\n",
            "12598 🌸 [UNK] 0 0\n",
            "12601 🌸 [UNK] 0 0\n",
            "12870 😂 [UNK] 0 0\n",
            "12903 🤢 [UNK] 0 0\n",
            "12904 🤢 [UNK] 0 0\n",
            "12905 🤢 [UNK] 0 0\n",
            "12919 🙈 [UNK] 0 0\n",
            "12920 🙈 [UNK] 0 0\n",
            "12921 🙈 [UNK] 0 0\n",
            "12922 🙈 [UNK] 0 0\n",
            "12923 🙈 [UNK] 0 0\n",
            "13774 😆 [UNK] 0 0\n",
            "13823 😂 [UNK] 0 0\n",
            "13841 🤔 [UNK] 0 0\n"
          ]
        }
      ]
    },
    {
      "cell_type": "code",
      "source": [
        "flat_aligned_tokens = [item for sublist in final_list_tokens for item in sublist]\n",
        "len(pd.Series(flat_aligned_tokens)[pd.Series(flat_aligned_tokens)=='[UNK]'])"
      ],
      "metadata": {
        "colab": {
          "base_uri": "https://localhost:8080/"
        },
        "id": "PLC2AH3SQ3HW",
        "outputId": "504aaa83-a98d-4f6f-db32-9dddb3beb407"
      },
      "execution_count": null,
      "outputs": [
        {
          "output_type": "execute_result",
          "data": {
            "text/plain": [
              "151"
            ]
          },
          "metadata": {},
          "execution_count": 10
        }
      ]
    },
    {
      "cell_type": "code",
      "source": [],
      "metadata": {
        "id": "PVEH1BszMIRs"
      },
      "execution_count": null,
      "outputs": []
    }
  ]
}